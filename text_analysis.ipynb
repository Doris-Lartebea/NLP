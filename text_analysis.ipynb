{
 "cells": [
  {
   "attachments": {},
   "cell_type": "markdown",
   "metadata": {},
   "source": [
    "#### NAME: DORIS LARTEBEA AMEYAW\n",
    "\n",
    "#### PROJECT TOPIC : Emotions people express in social media posts about online shopping using CHATGPT-3 generated text."
   ]
  },
  {
   "attachments": {},
   "cell_type": "markdown",
   "metadata": {},
   "source": [
    "### INTRODUCTION\n",
    "\n",
    "##### In recent years, online shopping has become increasingly popular, with more and more people using it as a convenient and efficient way to purchase goods and services. Social media platforms such as Twitter, Instagram, and Facebook have also become popular mediums for people to express their opinions and share their experiences about online shopping. This proposal aims to investigate the emotions people express in social media posts about online shopping and to provide a detailed analysis of these emotions."
   ]
  },
  {
   "attachments": {},
   "cell_type": "markdown",
   "metadata": {},
   "source": [
    "### METHODOLOGY"
   ]
  },
  {
   "attachments": {},
   "cell_type": "markdown",
   "metadata": {},
   "source": [
    "#### 1. Data Collection: Collect dataset of social media posts related to online shopping using Chatgpt\n",
    "\n",
    "#### 2. Preprocessing: Removing irrelevant or duplicate data, such as retweets, spam, or non-English language posts and tokenization, Lemmatization and stop-word removal to prepare the text for analysis. Tokenization involves breaking down the text into individual words or phrases.\n",
    "\n",
    "#### 3. Sentiment analysis: Conduct sentiment analysis on the preprocessed dataset using natural language processing (NLP) techniques to identify the emotional polarity of each post. Sentiment analysis involves classifying the polarity of the text as positive, negative, or neutral.\n",
    "\n",
    "#### 4. Emotion detection: Emotion detection involves classifying the emotional content of the text into categories such as   etc. and use a natural language processing tool to analyze the emotional content of each post.\n",
    "\n",
    "###  5. Visualization: Finally, we can visualize the results using graphs or charts to make the findings more accessible and understandable.\n"
   ]
  },
  {
   "cell_type": "code",
   "execution_count": null,
   "metadata": {},
   "outputs": [],
   "source": [
    "### Import packages\n",
    "import pandas as pd\n",
    "import numpy as np\n",
    "import nltk\n",
    "import seaborn as sns\n",
    "import matplotlib.pyplot as plt\n",
    "%matplotlib inline\n",
    "\n",
    "\n",
    "from nltk.tokenize import sent_tokenize, word_tokenize\n",
    "\n",
    "from nltk.sentiment import SentimentIntensityAnalyzer\n",
    "from wordcloud import WordCloud, STOPWORDS, ImageColorGenerator\n",
    "from PIL import Image\n",
    "\n",
    "from gensim.models import Word2Vec\n",
    "from nltk.cluster import KMeansClusterer\n",
    "import nltk\n",
    "\n",
    "import warnings\n",
    "warnings.filterwarnings('ignore')"
   ]
  },
  {
   "cell_type": "code",
   "execution_count": null,
   "metadata": {},
   "outputs": [
    {
     "name": "stdout",
     "output_type": "stream",
     "text": [
      "Requirement already satisfied: openpyxl in c:\\users\\devices\\appdata\\local\\packages\\pythonsoftwarefoundation.python.3.11_qbz5n2kfra8p0\\localcache\\local-packages\\python311\\site-packages (3.1.2)Note: you may need to restart the kernel to use updated packages.\n",
      "\n",
      "Requirement already satisfied: et-xmlfile in c:\\users\\devices\\appdata\\local\\packages\\pythonsoftwarefoundation.python.3.11_qbz5n2kfra8p0\\localcache\\local-packages\\python311\\site-packages (from openpyxl) (1.1.0)\n"
     ]
    }
   ],
   "source": [
    "pip install openpyxl"
   ]
  },
  {
   "cell_type": "code",
   "execution_count": null,
   "metadata": {},
   "outputs": [],
   "source": [
    "import pandas as pd\n",
    "df=pd.read_excel(\"data/online shopping data.xlsx\")\n"
   ]
  },
  {
   "cell_type": "code",
   "execution_count": null,
   "metadata": {},
   "outputs": [
    {
     "data": {
      "text/html": [
       "<div>\n",
       "<style scoped>\n",
       "    .dataframe tbody tr th:only-of-type {\n",
       "        vertical-align: middle;\n",
       "    }\n",
       "\n",
       "    .dataframe tbody tr th {\n",
       "        vertical-align: top;\n",
       "    }\n",
       "\n",
       "    .dataframe thead th {\n",
       "        text-align: right;\n",
       "    }\n",
       "</style>\n",
       "<table border=\"1\" class=\"dataframe\">\n",
       "  <thead>\n",
       "    <tr style=\"text-align: right;\">\n",
       "      <th></th>\n",
       "      <th>Posts</th>\n",
       "      <th>Emotions</th>\n",
       "    </tr>\n",
       "  </thead>\n",
       "  <tbody>\n",
       "    <tr>\n",
       "      <th>0</th>\n",
       "      <td>I just received my online order and it's perf...</td>\n",
       "      <td>satisfied</td>\n",
       "    </tr>\n",
       "    <tr>\n",
       "      <th>1</th>\n",
       "      <td>I'm so frustrated that my online order is taki...</td>\n",
       "      <td>frustrated</td>\n",
       "    </tr>\n",
       "    <tr>\n",
       "      <th>2</th>\n",
       "      <td>I just scored an amazing deal on my favorite ...</td>\n",
       "      <td>excited</td>\n",
       "    </tr>\n",
       "    <tr>\n",
       "      <th>3</th>\n",
       "      <td>I'm so disappointed that the size of my onlin...</td>\n",
       "      <td>disappointed</td>\n",
       "    </tr>\n",
       "    <tr>\n",
       "      <th>4</th>\n",
       "      <td>I love the convenience of online shopping! I ...</td>\n",
       "      <td>convenience</td>\n",
       "    </tr>\n",
       "  </tbody>\n",
       "</table>\n",
       "</div>"
      ],
      "text/plain": [
       "                                               Posts      Emotions\n",
       "0   I just received my online order and it's perf...     satisfied\n",
       "1  I'm so frustrated that my online order is taki...    frustrated\n",
       "2   I just scored an amazing deal on my favorite ...       excited\n",
       "3   I'm so disappointed that the size of my onlin...  disappointed\n",
       "4   I love the convenience of online shopping! I ...   convenience"
      ]
     },
     "execution_count": 866,
     "metadata": {},
     "output_type": "execute_result"
    }
   ],
   "source": [
    "df.head()"
   ]
  },
  {
   "attachments": {},
   "cell_type": "markdown",
   "metadata": {},
   "source": [
    "### EXPLORATORY DATA ANALYSIS"
   ]
  },
  {
   "cell_type": "code",
   "execution_count": null,
   "metadata": {},
   "outputs": [
    {
     "data": {
      "text/plain": [
       "<Axes: xlabel='Emotions'>"
      ]
     },
     "execution_count": 867,
     "metadata": {},
     "output_type": "execute_result"
    },
    {
     "data": {
      "image/png": "[encoded data removed]",
      "text/plain": [
       "<Figure size 640x480 with 1 Axes>"
      ]
     },
     "metadata": {},
     "output_type": "display_data"
    }
   ],
   "source": [
    "df.groupby('Emotions').count().plot.bar(color='red')"
   ]
  },
  {
   "attachments": {},
   "cell_type": "markdown",
   "metadata": {},
   "source": [
    "##### This chart visualize the distribution of emotions on each Posts in the dataset."
   ]
  },
  {
   "cell_type": "code",
   "execution_count": null,
   "metadata": {},
   "outputs": [
    {
     "data": {
      "text/plain": [
       "<Axes: xlabel='Posts', ylabel='Density'>"
      ]
     },
     "execution_count": 868,
     "metadata": {},
     "output_type": "execute_result"
    },
    {
     "data": {
      "image/png": "[encoded data removed]",
      "text/plain": [
       "<Figure size 640x480 with 1 Axes>"
      ]
     },
     "metadata": {},
     "output_type": "display_data"
    }
   ],
   "source": [
    "## plotting the distibution of number of characters in the Posts\n",
    "sns.distplot(df.Posts.str.len())"
   ]
  },
  {
   "attachments": {},
   "cell_type": "markdown",
   "metadata": {},
   "source": [
    "### TEXT PREPROCESSING"
   ]
  },
  {
   "cell_type": "code",
   "execution_count": null,
   "metadata": {},
   "outputs": [],
   "source": [
    "df=df.loc[df.Posts.str.isnumeric()==False]"
   ]
  },
  {
   "attachments": {},
   "cell_type": "markdown",
   "metadata": {},
   "source": [
    "##### lower Casing"
   ]
  },
  {
   "cell_type": "code",
   "execution_count": null,
   "metadata": {},
   "outputs": [
    {
     "data": {
      "text/html": [
       "<div>\n",
       "<style scoped>\n",
       "    .dataframe tbody tr th:only-of-type {\n",
       "        vertical-align: middle;\n",
       "    }\n",
       "\n",
       "    .dataframe tbody tr th {\n",
       "        vertical-align: top;\n",
       "    }\n",
       "\n",
       "    .dataframe thead th {\n",
       "        text-align: right;\n",
       "    }\n",
       "</style>\n",
       "<table border=\"1\" class=\"dataframe\">\n",
       "  <thead>\n",
       "    <tr style=\"text-align: right;\">\n",
       "      <th></th>\n",
       "      <th>Posts</th>\n",
       "      <th>review_processed</th>\n",
       "    </tr>\n",
       "  </thead>\n",
       "  <tbody>\n",
       "    <tr>\n",
       "      <th>0</th>\n",
       "      <td>I just received my online order and it's perf...</td>\n",
       "      <td>i just received my online order and it's perf...</td>\n",
       "    </tr>\n",
       "    <tr>\n",
       "      <th>1</th>\n",
       "      <td>I'm so frustrated that my online order is taki...</td>\n",
       "      <td>i'm so frustrated that my online order is taki...</td>\n",
       "    </tr>\n",
       "    <tr>\n",
       "      <th>2</th>\n",
       "      <td>I just scored an amazing deal on my favorite ...</td>\n",
       "      <td>i just scored an amazing deal on my favorite ...</td>\n",
       "    </tr>\n",
       "    <tr>\n",
       "      <th>3</th>\n",
       "      <td>I'm so disappointed that the size of my onlin...</td>\n",
       "      <td>i'm so disappointed that the size of my onlin...</td>\n",
       "    </tr>\n",
       "    <tr>\n",
       "      <th>4</th>\n",
       "      <td>I love the convenience of online shopping! I ...</td>\n",
       "      <td>i love the convenience of online shopping! i ...</td>\n",
       "    </tr>\n",
       "  </tbody>\n",
       "</table>\n",
       "</div>"
      ],
      "text/plain": [
       "                                               Posts   \n",
       "0   I just received my online order and it's perf...  \\\n",
       "1  I'm so frustrated that my online order is taki...   \n",
       "2   I just scored an amazing deal on my favorite ...   \n",
       "3   I'm so disappointed that the size of my onlin...   \n",
       "4   I love the convenience of online shopping! I ...   \n",
       "\n",
       "                                    review_processed  \n",
       "0   i just received my online order and it's perf...  \n",
       "1  i'm so frustrated that my online order is taki...  \n",
       "2   i just scored an amazing deal on my favorite ...  \n",
       "3   i'm so disappointed that the size of my onlin...  \n",
       "4   i love the convenience of online shopping! i ...  "
      ]
     },
     "execution_count": 870,
     "metadata": {},
     "output_type": "execute_result"
    }
   ],
   "source": [
    "# Convert the titles to lowercase\n",
    "df['review_processed'] = df['Posts'].map(lambda x: x.lower())\n",
    "df[['Posts','review_processed']].head()\n"
   ]
  },
  {
   "cell_type": "code",
   "execution_count": null,
   "metadata": {},
   "outputs": [
    {
     "name": "stderr",
     "output_type": "stream",
     "text": [
      "[nltk_data] Downloading package punkt to\n",
      "[nltk_data]     C:\\Users\\DEVICES\\AppData\\Roaming\\nltk_data...\n",
      "[nltk_data]   Package punkt is already up-to-date!\n"
     ]
    },
    {
     "data": {
      "text/plain": [
       "True"
      ]
     },
     "execution_count": 871,
     "metadata": {},
     "output_type": "execute_result"
    }
   ],
   "source": [
    "import nltk\n",
    "nltk.download('punkt')"
   ]
  },
  {
   "attachments": {},
   "cell_type": "markdown",
   "metadata": {},
   "source": [
    "#### Tokenization"
   ]
  },
  {
   "cell_type": "code",
   "execution_count": null,
   "metadata": {},
   "outputs": [
    {
     "data": {
      "text/html": [
       "<div>\n",
       "<style scoped>\n",
       "    .dataframe tbody tr th:only-of-type {\n",
       "        vertical-align: middle;\n",
       "    }\n",
       "\n",
       "    .dataframe tbody tr th {\n",
       "        vertical-align: top;\n",
       "    }\n",
       "\n",
       "    .dataframe thead th {\n",
       "        text-align: right;\n",
       "    }\n",
       "</style>\n",
       "<table border=\"1\" class=\"dataframe\">\n",
       "  <thead>\n",
       "    <tr style=\"text-align: right;\">\n",
       "      <th></th>\n",
       "      <th>review_processed</th>\n",
       "      <th>review_processed_1</th>\n",
       "    </tr>\n",
       "  </thead>\n",
       "  <tbody>\n",
       "    <tr>\n",
       "      <th>0</th>\n",
       "      <td>i just received my online order and it's perf...</td>\n",
       "      <td>[i, just, received, my, online, order, and, it...</td>\n",
       "    </tr>\n",
       "    <tr>\n",
       "      <th>1</th>\n",
       "      <td>i'm so frustrated that my online order is taki...</td>\n",
       "      <td>[i, 'm, so, frustrated, that, my, online, orde...</td>\n",
       "    </tr>\n",
       "    <tr>\n",
       "      <th>2</th>\n",
       "      <td>i just scored an amazing deal on my favorite ...</td>\n",
       "      <td>[i, just, scored, an, amazing, deal, on, my, f...</td>\n",
       "    </tr>\n",
       "    <tr>\n",
       "      <th>3</th>\n",
       "      <td>i'm so disappointed that the size of my onlin...</td>\n",
       "      <td>[i, 'm, so, disappointed, that, the, size, of,...</td>\n",
       "    </tr>\n",
       "    <tr>\n",
       "      <th>4</th>\n",
       "      <td>i love the convenience of online shopping! i ...</td>\n",
       "      <td>[i, love, the, convenience, of, online, shoppi...</td>\n",
       "    </tr>\n",
       "  </tbody>\n",
       "</table>\n",
       "</div>"
      ],
      "text/plain": [
       "                                    review_processed   \n",
       "0   i just received my online order and it's perf...  \\\n",
       "1  i'm so frustrated that my online order is taki...   \n",
       "2   i just scored an amazing deal on my favorite ...   \n",
       "3   i'm so disappointed that the size of my onlin...   \n",
       "4   i love the convenience of online shopping! i ...   \n",
       "\n",
       "                                  review_processed_1  \n",
       "0  [i, just, received, my, online, order, and, it...  \n",
       "1  [i, 'm, so, frustrated, that, my, online, orde...  \n",
       "2  [i, just, scored, an, amazing, deal, on, my, f...  \n",
       "3  [i, 'm, so, disappointed, that, the, size, of,...  \n",
       "4  [i, love, the, convenience, of, online, shoppi...  "
      ]
     },
     "execution_count": 872,
     "metadata": {},
     "output_type": "execute_result"
    }
   ],
   "source": [
    "from nltk.tokenize import word_tokenize\n",
    "#Word tokenization\n",
    "df.loc[:,'review_processed_1'] =df['review_processed'].apply(lambda x : word_tokenize(x))\n",
    "df[['review_processed','review_processed_1']].head()"
   ]
  },
  {
   "attachments": {},
   "cell_type": "markdown",
   "metadata": {},
   "source": [
    "### Punctuation Removal"
   ]
  },
  {
   "cell_type": "code",
   "execution_count": null,
   "metadata": {},
   "outputs": [
    {
     "data": {
      "text/html": [
       "<div>\n",
       "<style scoped>\n",
       "    .dataframe tbody tr th:only-of-type {\n",
       "        vertical-align: middle;\n",
       "    }\n",
       "\n",
       "    .dataframe tbody tr th {\n",
       "        vertical-align: top;\n",
       "    }\n",
       "\n",
       "    .dataframe thead th {\n",
       "        text-align: right;\n",
       "    }\n",
       "</style>\n",
       "<table border=\"1\" class=\"dataframe\">\n",
       "  <thead>\n",
       "    <tr style=\"text-align: right;\">\n",
       "      <th></th>\n",
       "      <th>review_processed_1</th>\n",
       "      <th>review_processed_2</th>\n",
       "    </tr>\n",
       "  </thead>\n",
       "  <tbody>\n",
       "    <tr>\n",
       "      <th>0</th>\n",
       "      <td>[i, just, received, my, online, order, and, it...</td>\n",
       "      <td>[i, just, received, my, online, order, and, it...</td>\n",
       "    </tr>\n",
       "    <tr>\n",
       "      <th>1</th>\n",
       "      <td>[i, 'm, so, frustrated, that, my, online, orde...</td>\n",
       "      <td>[i, 'm, so, frustrated, that, my, online, orde...</td>\n",
       "    </tr>\n",
       "    <tr>\n",
       "      <th>2</th>\n",
       "      <td>[i, just, scored, an, amazing, deal, on, my, f...</td>\n",
       "      <td>[i, just, scored, an, amazing, deal, on, my, f...</td>\n",
       "    </tr>\n",
       "    <tr>\n",
       "      <th>3</th>\n",
       "      <td>[i, 'm, so, disappointed, that, the, size, of,...</td>\n",
       "      <td>[i, 'm, so, disappointed, that, the, size, of,...</td>\n",
       "    </tr>\n",
       "    <tr>\n",
       "      <th>4</th>\n",
       "      <td>[i, love, the, convenience, of, online, shoppi...</td>\n",
       "      <td>[i, love, the, convenience, of, online, shoppi...</td>\n",
       "    </tr>\n",
       "  </tbody>\n",
       "</table>\n",
       "</div>"
      ],
      "text/plain": [
       "                                  review_processed_1   \n",
       "0  [i, just, received, my, online, order, and, it...  \\\n",
       "1  [i, 'm, so, frustrated, that, my, online, orde...   \n",
       "2  [i, just, scored, an, amazing, deal, on, my, f...   \n",
       "3  [i, 'm, so, disappointed, that, the, size, of,...   \n",
       "4  [i, love, the, convenience, of, online, shoppi...   \n",
       "\n",
       "                                  review_processed_2  \n",
       "0  [i, just, received, my, online, order, and, it...  \n",
       "1  [i, 'm, so, frustrated, that, my, online, orde...  \n",
       "2  [i, just, scored, an, amazing, deal, on, my, f...  \n",
       "3  [i, 'm, so, disappointed, that, the, size, of,...  \n",
       "4  [i, love, the, convenience, of, online, shoppi...  "
      ]
     },
     "execution_count": 873,
     "metadata": {},
     "output_type": "execute_result"
    }
   ],
   "source": [
    "import string\n",
    "#Function for punctuation removal\n",
    "def remove_punct(tok):\n",
    "    y = [x for x in tok if x not in string.punctuation]\n",
    "    return y\n",
    "\n",
    "#Removing punctuation\n",
    "df.loc[:,'review_processed_2'] =df['review_processed_1'].apply(remove_punct)\n",
    "\n",
    "df[['review_processed_1','review_processed_2']].head()\n"
   ]
  },
  {
   "cell_type": "code",
   "execution_count": null,
   "metadata": {},
   "outputs": [
    {
     "name": "stderr",
     "output_type": "stream",
     "text": [
      "[nltk_data] Downloading package wordnet to\n",
      "[nltk_data]     C:\\Users\\DEVICES\\AppData\\Roaming\\nltk_data...\n",
      "[nltk_data]   Package wordnet is already up-to-date!\n"
     ]
    },
    {
     "data": {
      "text/plain": [
       "True"
      ]
     },
     "execution_count": 874,
     "metadata": {},
     "output_type": "execute_result"
    }
   ],
   "source": [
    "import nltk\n",
    "nltk.download('wordnet')"
   ]
  },
  {
   "attachments": {},
   "cell_type": "markdown",
   "metadata": {},
   "source": [
    "### Lemmatization"
   ]
  },
  {
   "cell_type": "code",
   "execution_count": null,
   "metadata": {},
   "outputs": [
    {
     "data": {
      "text/html": [
       "<div>\n",
       "<style scoped>\n",
       "    .dataframe tbody tr th:only-of-type {\n",
       "        vertical-align: middle;\n",
       "    }\n",
       "\n",
       "    .dataframe tbody tr th {\n",
       "        vertical-align: top;\n",
       "    }\n",
       "\n",
       "    .dataframe thead th {\n",
       "        text-align: right;\n",
       "    }\n",
       "</style>\n",
       "<table border=\"1\" class=\"dataframe\">\n",
       "  <thead>\n",
       "    <tr style=\"text-align: right;\">\n",
       "      <th></th>\n",
       "      <th>review_processed_2</th>\n",
       "      <th>review_processed_3</th>\n",
       "    </tr>\n",
       "  </thead>\n",
       "  <tbody>\n",
       "    <tr>\n",
       "      <th>0</th>\n",
       "      <td>[i, just, received, my, online, order, and, it...</td>\n",
       "      <td>[i, just, received, my, online, order, and, it...</td>\n",
       "    </tr>\n",
       "    <tr>\n",
       "      <th>1</th>\n",
       "      <td>[i, 'm, so, frustrated, that, my, online, orde...</td>\n",
       "      <td>[i, 'm, so, frustrated, that, my, online, orde...</td>\n",
       "    </tr>\n",
       "    <tr>\n",
       "      <th>2</th>\n",
       "      <td>[i, just, scored, an, amazing, deal, on, my, f...</td>\n",
       "      <td>[i, just, scored, an, amazing, deal, on, my, f...</td>\n",
       "    </tr>\n",
       "    <tr>\n",
       "      <th>3</th>\n",
       "      <td>[i, 'm, so, disappointed, that, the, size, of,...</td>\n",
       "      <td>[i, 'm, so, disappointed, that, the, size, of,...</td>\n",
       "    </tr>\n",
       "    <tr>\n",
       "      <th>4</th>\n",
       "      <td>[i, love, the, convenience, of, online, shoppi...</td>\n",
       "      <td>[i, love, the, convenience, of, online, shoppi...</td>\n",
       "    </tr>\n",
       "  </tbody>\n",
       "</table>\n",
       "</div>"
      ],
      "text/plain": [
       "                                  review_processed_2   \n",
       "0  [i, just, received, my, online, order, and, it...  \\\n",
       "1  [i, 'm, so, frustrated, that, my, online, orde...   \n",
       "2  [i, just, scored, an, amazing, deal, on, my, f...   \n",
       "3  [i, 'm, so, disappointed, that, the, size, of,...   \n",
       "4  [i, love, the, convenience, of, online, shoppi...   \n",
       "\n",
       "                                  review_processed_3  \n",
       "0  [i, just, received, my, online, order, and, it...  \n",
       "1  [i, 'm, so, frustrated, that, my, online, orde...  \n",
       "2  [i, just, scored, an, amazing, deal, on, my, f...  \n",
       "3  [i, 'm, so, disappointed, that, the, size, of,...  \n",
       "4  [i, love, the, convenience, of, online, shoppi...  "
      ]
     },
     "execution_count": 875,
     "metadata": {},
     "output_type": "execute_result"
    }
   ],
   "source": [
    "from nltk.stem import WordNetLemmatizer\n",
    "lemmatizer = WordNetLemmatizer()\n",
    "\n",
    "def lemma(tok):\n",
    "    newtoken =[lemmatizer.lemmatize(i) for i in tok]\n",
    "    return newtoken\n",
    "\n",
    "df.loc[:,'review_processed_3'] =df['review_processed_2'].apply(lemma)\n",
    "\n",
    "df[['review_processed_2','review_processed_3']].head()"
   ]
  },
  {
   "attachments": {},
   "cell_type": "markdown",
   "metadata": {},
   "source": [
    "### Stop Words Removal"
   ]
  },
  {
   "cell_type": "code",
   "execution_count": null,
   "metadata": {},
   "outputs": [
    {
     "name": "stderr",
     "output_type": "stream",
     "text": [
      "[nltk_data] Downloading package stopwords to\n",
      "[nltk_data]     C:\\Users\\DEVICES\\AppData\\Roaming\\nltk_data...\n",
      "[nltk_data]   Package stopwords is already up-to-date!\n"
     ]
    },
    {
     "data": {
      "text/plain": [
       "True"
      ]
     },
     "execution_count": 876,
     "metadata": {},
     "output_type": "execute_result"
    }
   ],
   "source": [
    "import nltk\n",
    "nltk.download('stopwords')"
   ]
  },
  {
   "cell_type": "code",
   "execution_count": null,
   "metadata": {},
   "outputs": [
    {
     "data": {
      "text/html": [
       "<div>\n",
       "<style scoped>\n",
       "    .dataframe tbody tr th:only-of-type {\n",
       "        vertical-align: middle;\n",
       "    }\n",
       "\n",
       "    .dataframe tbody tr th {\n",
       "        vertical-align: top;\n",
       "    }\n",
       "\n",
       "    .dataframe thead th {\n",
       "        text-align: right;\n",
       "    }\n",
       "</style>\n",
       "<table border=\"1\" class=\"dataframe\">\n",
       "  <thead>\n",
       "    <tr style=\"text-align: right;\">\n",
       "      <th></th>\n",
       "      <th>review_processed_3</th>\n",
       "      <th>review_processed_4</th>\n",
       "    </tr>\n",
       "  </thead>\n",
       "  <tbody>\n",
       "    <tr>\n",
       "      <th>0</th>\n",
       "      <td>[i, just, received, my, online, order, and, it...</td>\n",
       "      <td>[just, received, online, order, it, 's, perfect]</td>\n",
       "    </tr>\n",
       "    <tr>\n",
       "      <th>1</th>\n",
       "      <td>[i, 'm, so, frustrated, that, my, online, orde...</td>\n",
       "      <td>['m, frustrated, my, online, order, taking, fo...</td>\n",
       "    </tr>\n",
       "    <tr>\n",
       "      <th>2</th>\n",
       "      <td>[i, just, scored, an, amazing, deal, on, my, f...</td>\n",
       "      <td>[just, scored, amazing, deal, my, favorite, br...</td>\n",
       "    </tr>\n",
       "    <tr>\n",
       "      <th>3</th>\n",
       "      <td>[i, 'm, so, disappointed, that, the, size, of,...</td>\n",
       "      <td>['m, disappointed, the, size, my, online, orde...</td>\n",
       "    </tr>\n",
       "    <tr>\n",
       "      <th>4</th>\n",
       "      <td>[i, love, the, convenience, of, online, shoppi...</td>\n",
       "      <td>[love, convenience, online, shopping, can, sho...</td>\n",
       "    </tr>\n",
       "  </tbody>\n",
       "</table>\n",
       "</div>"
      ],
      "text/plain": [
       "                                  review_processed_3   \n",
       "0  [i, just, received, my, online, order, and, it...  \\\n",
       "1  [i, 'm, so, frustrated, that, my, online, orde...   \n",
       "2  [i, just, scored, an, amazing, deal, on, my, f...   \n",
       "3  [i, 'm, so, disappointed, that, the, size, of,...   \n",
       "4  [i, love, the, convenience, of, online, shoppi...   \n",
       "\n",
       "                                  review_processed_4  \n",
       "0   [just, received, online, order, it, 's, perfect]  \n",
       "1  ['m, frustrated, my, online, order, taking, fo...  \n",
       "2  [just, scored, amazing, deal, my, favorite, br...  \n",
       "3  ['m, disappointed, the, size, my, online, orde...  \n",
       "4  [love, convenience, online, shopping, can, sho...  "
      ]
     },
     "execution_count": 877,
     "metadata": {},
     "output_type": "execute_result"
    }
   ],
   "source": [
    "from nltk.corpus import stopwords\n",
    "stop_words = set(stopwords.words('english'))\n",
    "\n",
    "#Function for stop words removal\n",
    "def rem_stop_words(tok):\n",
    "    clean=tok[:]\n",
    "    \n",
    "    for word in clean:\n",
    "           if word in stop_words:\n",
    "                clean.remove(word)\n",
    "    return clean\n",
    "\n",
    "#Stop words removal\n",
    "df.loc[:,'review_processed_4'] =df['review_processed_3'].apply(rem_stop_words)\n",
    "\n",
    "df[['review_processed_3','review_processed_4']].head()"
   ]
  },
  {
   "cell_type": "code",
   "execution_count": null,
   "metadata": {},
   "outputs": [
    {
     "data": {
      "text/html": [
       "<div>\n",
       "<style scoped>\n",
       "    .dataframe tbody tr th:only-of-type {\n",
       "        vertical-align: middle;\n",
       "    }\n",
       "\n",
       "    .dataframe tbody tr th {\n",
       "        vertical-align: top;\n",
       "    }\n",
       "\n",
       "    .dataframe thead th {\n",
       "        text-align: right;\n",
       "    }\n",
       "</style>\n",
       "<table border=\"1\" class=\"dataframe\">\n",
       "  <thead>\n",
       "    <tr style=\"text-align: right;\">\n",
       "      <th></th>\n",
       "      <th>review_processed_4</th>\n",
       "      <th>review_processed_5</th>\n",
       "    </tr>\n",
       "  </thead>\n",
       "  <tbody>\n",
       "    <tr>\n",
       "      <th>0</th>\n",
       "      <td>[just, received, online, order, it, 's, perfect]</td>\n",
       "      <td>just received online order it 's perfect</td>\n",
       "    </tr>\n",
       "    <tr>\n",
       "      <th>1</th>\n",
       "      <td>['m, frustrated, my, online, order, taking, fo...</td>\n",
       "      <td>'m frustrated my online order taking forever a...</td>\n",
       "    </tr>\n",
       "    <tr>\n",
       "      <th>2</th>\n",
       "      <td>[just, scored, amazing, deal, my, favorite, br...</td>\n",
       "      <td>just scored amazing deal my favorite brand sho...</td>\n",
       "    </tr>\n",
       "    <tr>\n",
       "      <th>3</th>\n",
       "      <td>['m, disappointed, the, size, my, online, orde...</td>\n",
       "      <td>'m disappointed the size my online order n't fit</td>\n",
       "    </tr>\n",
       "    <tr>\n",
       "      <th>4</th>\n",
       "      <td>[love, convenience, online, shopping, can, sho...</td>\n",
       "      <td>love convenience online shopping can shop the ...</td>\n",
       "    </tr>\n",
       "  </tbody>\n",
       "</table>\n",
       "</div>"
      ],
      "text/plain": [
       "                                  review_processed_4   \n",
       "0   [just, received, online, order, it, 's, perfect]  \\\n",
       "1  ['m, frustrated, my, online, order, taking, fo...   \n",
       "2  [just, scored, amazing, deal, my, favorite, br...   \n",
       "3  ['m, disappointed, the, size, my, online, orde...   \n",
       "4  [love, convenience, online, shopping, can, sho...   \n",
       "\n",
       "                                  review_processed_5  \n",
       "0           just received online order it 's perfect  \n",
       "1  'm frustrated my online order taking forever a...  \n",
       "2  just scored amazing deal my favorite brand sho...  \n",
       "3   'm disappointed the size my online order n't fit  \n",
       "4  love convenience online shopping can shop the ...  "
      ]
     },
     "execution_count": 878,
     "metadata": {},
     "output_type": "execute_result"
    }
   ],
   "source": [
    "#Converting list of words to sentences from previous step\n",
    "df['review_processed_5']=df['review_processed_4'].map(lambda x: ' '.join(x))\n",
    "df[['review_processed_4', 'review_processed_5']].head()"
   ]
  },
  {
   "cell_type": "code",
   "execution_count": null,
   "metadata": {},
   "outputs": [
    {
     "name": "stderr",
     "output_type": "stream",
     "text": [
      "[nltk_data] Downloading package vader_lexicon to\n",
      "[nltk_data]     C:\\Users\\DEVICES\\AppData\\Roaming\\nltk_data...\n",
      "[nltk_data]   Package vader_lexicon is already up-to-date!\n"
     ]
    },
    {
     "data": {
      "text/plain": [
       "True"
      ]
     },
     "execution_count": 879,
     "metadata": {},
     "output_type": "execute_result"
    }
   ],
   "source": [
    "import nltk\n",
    "\n",
    "nltk.download('vader_lexicon')"
   ]
  },
  {
   "attachments": {},
   "cell_type": "markdown",
   "metadata": {},
   "source": [
    "### SENTIMENT ANALYSIS"
   ]
  },
  {
   "cell_type": "code",
   "execution_count": null,
   "metadata": {},
   "outputs": [
    {
     "data": {
      "text/html": [
       "<div>\n",
       "<style scoped>\n",
       "    .dataframe tbody tr th:only-of-type {\n",
       "        vertical-align: middle;\n",
       "    }\n",
       "\n",
       "    .dataframe tbody tr th {\n",
       "        vertical-align: top;\n",
       "    }\n",
       "\n",
       "    .dataframe thead th {\n",
       "        text-align: right;\n",
       "    }\n",
       "</style>\n",
       "<table border=\"1\" class=\"dataframe\">\n",
       "  <thead>\n",
       "    <tr style=\"text-align: right;\">\n",
       "      <th></th>\n",
       "      <th>Posts</th>\n",
       "      <th>Emotions</th>\n",
       "      <th>review_processed</th>\n",
       "      <th>review_processed_1</th>\n",
       "      <th>review_processed_2</th>\n",
       "      <th>review_processed_3</th>\n",
       "      <th>review_processed_4</th>\n",
       "      <th>review_processed_5</th>\n",
       "      <th>polarity</th>\n",
       "    </tr>\n",
       "  </thead>\n",
       "  <tbody>\n",
       "    <tr>\n",
       "      <th>147</th>\n",
       "      <td>I'm so impressed with this online store's pac...</td>\n",
       "      <td>impressed</td>\n",
       "      <td>i'm so impressed with this online store's pac...</td>\n",
       "      <td>[i, 'm, so, impressed, with, this, online, sto...</td>\n",
       "      <td>[i, 'm, so, impressed, with, this, online, sto...</td>\n",
       "      <td>[i, 'm, so, impressed, with, this, online, sto...</td>\n",
       "      <td>['m, impressed, this, online, store, 's, packa...</td>\n",
       "      <td>'m impressed this online store 's packaging to...</td>\n",
       "      <td>{'neg': 0.0, 'neu': 0.386, 'pos': 0.614, 'comp...</td>\n",
       "    </tr>\n",
       "    <tr>\n",
       "      <th>148</th>\n",
       "      <td>I ordered a gift online and it was a hit! The...</td>\n",
       "      <td>satisfied</td>\n",
       "      <td>i ordered a gift online and it was a hit! the...</td>\n",
       "      <td>[i, ordered, a, gift, online, and, it, was, a,...</td>\n",
       "      <td>[i, ordered, a, gift, online, and, it, was, a,...</td>\n",
       "      <td>[i, ordered, a, gift, online, and, it, wa, a, ...</td>\n",
       "      <td>[ordered, gift, online, wa, hit, recipient, lo...</td>\n",
       "      <td>ordered gift online wa hit recipient loved it</td>\n",
       "      <td>{'neg': 0.0, 'neu': 0.469, 'pos': 0.531, 'comp...</td>\n",
       "    </tr>\n",
       "    <tr>\n",
       "      <th>149</th>\n",
       "      <td>I just received my online order and it's exac...</td>\n",
       "      <td>happy</td>\n",
       "      <td>i just received my online order and it's exac...</td>\n",
       "      <td>[i, just, received, my, online, order, and, it...</td>\n",
       "      <td>[i, just, received, my, online, order, and, it...</td>\n",
       "      <td>[i, just, received, my, online, order, and, it...</td>\n",
       "      <td>[just, received, online, order, it, 's, exactl...</td>\n",
       "      <td>just received online order it 's exactly i wa ...</td>\n",
       "      <td>{'neg': 0.0, 'neu': 0.593, 'pos': 0.407, 'comp...</td>\n",
       "    </tr>\n",
       "  </tbody>\n",
       "</table>\n",
       "</div>"
      ],
      "text/plain": [
       "                                                 Posts   Emotions   \n",
       "147   I'm so impressed with this online store's pac...  impressed  \\\n",
       "148   I ordered a gift online and it was a hit! The...  satisfied   \n",
       "149   I just received my online order and it's exac...      happy   \n",
       "\n",
       "                                      review_processed   \n",
       "147   i'm so impressed with this online store's pac...  \\\n",
       "148   i ordered a gift online and it was a hit! the...   \n",
       "149   i just received my online order and it's exac...   \n",
       "\n",
       "                                    review_processed_1   \n",
       "147  [i, 'm, so, impressed, with, this, online, sto...  \\\n",
       "148  [i, ordered, a, gift, online, and, it, was, a,...   \n",
       "149  [i, just, received, my, online, order, and, it...   \n",
       "\n",
       "                                    review_processed_2   \n",
       "147  [i, 'm, so, impressed, with, this, online, sto...  \\\n",
       "148  [i, ordered, a, gift, online, and, it, was, a,...   \n",
       "149  [i, just, received, my, online, order, and, it...   \n",
       "\n",
       "                                    review_processed_3   \n",
       "147  [i, 'm, so, impressed, with, this, online, sto...  \\\n",
       "148  [i, ordered, a, gift, online, and, it, wa, a, ...   \n",
       "149  [i, just, received, my, online, order, and, it...   \n",
       "\n",
       "                                    review_processed_4   \n",
       "147  ['m, impressed, this, online, store, 's, packa...  \\\n",
       "148  [ordered, gift, online, wa, hit, recipient, lo...   \n",
       "149  [just, received, online, order, it, 's, exactl...   \n",
       "\n",
       "                                    review_processed_5   \n",
       "147  'm impressed this online store 's packaging to...  \\\n",
       "148      ordered gift online wa hit recipient loved it   \n",
       "149  just received online order it 's exactly i wa ...   \n",
       "\n",
       "                                              polarity  \n",
       "147  {'neg': 0.0, 'neu': 0.386, 'pos': 0.614, 'comp...  \n",
       "148  {'neg': 0.0, 'neu': 0.469, 'pos': 0.531, 'comp...  \n",
       "149  {'neg': 0.0, 'neu': 0.593, 'pos': 0.407, 'comp...  "
      ]
     },
     "execution_count": 880,
     "metadata": {},
     "output_type": "execute_result"
    }
   ],
   "source": [
    "from nltk.sentiment import SentimentIntensityAnalyzer \n",
    "analyzer = SentimentIntensityAnalyzer()\n",
    "\n",
    "df['polarity'] = df['review_processed_5'].apply(lambda x: analyzer.polarity_scores(x))\n",
    "\n",
    "df.tail(3)"
   ]
  },
  {
   "cell_type": "code",
   "execution_count": null,
   "metadata": {},
   "outputs": [
    {
     "data": {
      "text/html": [
       "<div>\n",
       "<style scoped>\n",
       "    .dataframe tbody tr th:only-of-type {\n",
       "        vertical-align: middle;\n",
       "    }\n",
       "\n",
       "    .dataframe tbody tr th {\n",
       "        vertical-align: top;\n",
       "    }\n",
       "\n",
       "    .dataframe thead th {\n",
       "        text-align: right;\n",
       "    }\n",
       "</style>\n",
       "<table border=\"1\" class=\"dataframe\">\n",
       "  <thead>\n",
       "    <tr style=\"text-align: right;\">\n",
       "      <th></th>\n",
       "      <th>Posts</th>\n",
       "      <th>Emotions</th>\n",
       "      <th>review_processed</th>\n",
       "      <th>review_processed_1</th>\n",
       "      <th>review_processed_2</th>\n",
       "      <th>review_processed_3</th>\n",
       "      <th>review_processed_4</th>\n",
       "      <th>review_processed_5</th>\n",
       "      <th>neg</th>\n",
       "      <th>neu</th>\n",
       "      <th>pos</th>\n",
       "      <th>compound</th>\n",
       "    </tr>\n",
       "  </thead>\n",
       "  <tbody>\n",
       "    <tr>\n",
       "      <th>0</th>\n",
       "      <td>I just received my online order and it's perf...</td>\n",
       "      <td>satisfied</td>\n",
       "      <td>i just received my online order and it's perf...</td>\n",
       "      <td>[i, just, received, my, online, order, and, it...</td>\n",
       "      <td>[i, just, received, my, online, order, and, it...</td>\n",
       "      <td>[i, just, received, my, online, order, and, it...</td>\n",
       "      <td>[just, received, online, order, it, 's, perfect]</td>\n",
       "      <td>just received online order it 's perfect</td>\n",
       "      <td>0.000</td>\n",
       "      <td>0.619</td>\n",
       "      <td>0.381</td>\n",
       "      <td>0.5719</td>\n",
       "    </tr>\n",
       "    <tr>\n",
       "      <th>1</th>\n",
       "      <td>I'm so frustrated that my online order is taki...</td>\n",
       "      <td>frustrated</td>\n",
       "      <td>i'm so frustrated that my online order is taki...</td>\n",
       "      <td>[i, 'm, so, frustrated, that, my, online, orde...</td>\n",
       "      <td>[i, 'm, so, frustrated, that, my, online, orde...</td>\n",
       "      <td>[i, 'm, so, frustrated, that, my, online, orde...</td>\n",
       "      <td>['m, frustrated, my, online, order, taking, fo...</td>\n",
       "      <td>'m frustrated my online order taking forever a...</td>\n",
       "      <td>0.327</td>\n",
       "      <td>0.673</td>\n",
       "      <td>0.000</td>\n",
       "      <td>-0.5267</td>\n",
       "    </tr>\n",
       "    <tr>\n",
       "      <th>2</th>\n",
       "      <td>I just scored an amazing deal on my favorite ...</td>\n",
       "      <td>excited</td>\n",
       "      <td>i just scored an amazing deal on my favorite ...</td>\n",
       "      <td>[i, just, scored, an, amazing, deal, on, my, f...</td>\n",
       "      <td>[i, just, scored, an, amazing, deal, on, my, f...</td>\n",
       "      <td>[i, just, scored, an, amazing, deal, on, my, f...</td>\n",
       "      <td>[just, scored, amazing, deal, my, favorite, br...</td>\n",
       "      <td>just scored amazing deal my favorite brand sho...</td>\n",
       "      <td>0.000</td>\n",
       "      <td>0.507</td>\n",
       "      <td>0.493</td>\n",
       "      <td>0.7783</td>\n",
       "    </tr>\n",
       "  </tbody>\n",
       "</table>\n",
       "</div>"
      ],
      "text/plain": [
       "                                               Posts    Emotions   \n",
       "0   I just received my online order and it's perf...   satisfied  \\\n",
       "1  I'm so frustrated that my online order is taki...  frustrated   \n",
       "2   I just scored an amazing deal on my favorite ...     excited   \n",
       "\n",
       "                                    review_processed   \n",
       "0   i just received my online order and it's perf...  \\\n",
       "1  i'm so frustrated that my online order is taki...   \n",
       "2   i just scored an amazing deal on my favorite ...   \n",
       "\n",
       "                                  review_processed_1   \n",
       "0  [i, just, received, my, online, order, and, it...  \\\n",
       "1  [i, 'm, so, frustrated, that, my, online, orde...   \n",
       "2  [i, just, scored, an, amazing, deal, on, my, f...   \n",
       "\n",
       "                                  review_processed_2   \n",
       "0  [i, just, received, my, online, order, and, it...  \\\n",
       "1  [i, 'm, so, frustrated, that, my, online, orde...   \n",
       "2  [i, just, scored, an, amazing, deal, on, my, f...   \n",
       "\n",
       "                                  review_processed_3   \n",
       "0  [i, just, received, my, online, order, and, it...  \\\n",
       "1  [i, 'm, so, frustrated, that, my, online, orde...   \n",
       "2  [i, just, scored, an, amazing, deal, on, my, f...   \n",
       "\n",
       "                                  review_processed_4   \n",
       "0   [just, received, online, order, it, 's, perfect]  \\\n",
       "1  ['m, frustrated, my, online, order, taking, fo...   \n",
       "2  [just, scored, amazing, deal, my, favorite, br...   \n",
       "\n",
       "                                  review_processed_5    neg    neu    pos   \n",
       "0           just received online order it 's perfect  0.000  0.619  0.381  \\\n",
       "1  'm frustrated my online order taking forever a...  0.327  0.673  0.000   \n",
       "2  just scored amazing deal my favorite brand sho...  0.000  0.507  0.493   \n",
       "\n",
       "   compound  \n",
       "0    0.5719  \n",
       "1   -0.5267  \n",
       "2    0.7783  "
      ]
     },
     "execution_count": 881,
     "metadata": {},
     "output_type": "execute_result"
    }
   ],
   "source": [
    "df = pd.concat([df.drop([ 'polarity'], axis=1),\n",
    "df['polarity'].apply(pd.Series)], axis=1)\n",
    "\n",
    "df.head(3)"
   ]
  },
  {
   "cell_type": "code",
   "execution_count": null,
   "metadata": {},
   "outputs": [
    {
     "data": {
      "text/html": [
       "<div>\n",
       "<style scoped>\n",
       "    .dataframe tbody tr th:only-of-type {\n",
       "        vertical-align: middle;\n",
       "    }\n",
       "\n",
       "    .dataframe tbody tr th {\n",
       "        vertical-align: top;\n",
       "    }\n",
       "\n",
       "    .dataframe thead th {\n",
       "        text-align: right;\n",
       "    }\n",
       "</style>\n",
       "<table border=\"1\" class=\"dataframe\">\n",
       "  <thead>\n",
       "    <tr style=\"text-align: right;\">\n",
       "      <th></th>\n",
       "      <th>Posts</th>\n",
       "      <th>Emotions</th>\n",
       "      <th>review_processed</th>\n",
       "      <th>review_processed_1</th>\n",
       "      <th>review_processed_2</th>\n",
       "      <th>review_processed_3</th>\n",
       "      <th>review_processed_4</th>\n",
       "      <th>review_processed_5</th>\n",
       "      <th>neg</th>\n",
       "      <th>neu</th>\n",
       "      <th>pos</th>\n",
       "      <th>compound</th>\n",
       "      <th>Sentiment</th>\n",
       "    </tr>\n",
       "  </thead>\n",
       "  <tbody>\n",
       "    <tr>\n",
       "      <th>0</th>\n",
       "      <td>I just received my online order and it's perf...</td>\n",
       "      <td>satisfied</td>\n",
       "      <td>i just received my online order and it's perf...</td>\n",
       "      <td>[i, just, received, my, online, order, and, it...</td>\n",
       "      <td>[i, just, received, my, online, order, and, it...</td>\n",
       "      <td>[i, just, received, my, online, order, and, it...</td>\n",
       "      <td>[just, received, online, order, it, 's, perfect]</td>\n",
       "      <td>just received online order it 's perfect</td>\n",
       "      <td>0.000</td>\n",
       "      <td>0.619</td>\n",
       "      <td>0.381</td>\n",
       "      <td>0.5719</td>\n",
       "      <td>positive</td>\n",
       "    </tr>\n",
       "    <tr>\n",
       "      <th>1</th>\n",
       "      <td>I'm so frustrated that my online order is taki...</td>\n",
       "      <td>frustrated</td>\n",
       "      <td>i'm so frustrated that my online order is taki...</td>\n",
       "      <td>[i, 'm, so, frustrated, that, my, online, orde...</td>\n",
       "      <td>[i, 'm, so, frustrated, that, my, online, orde...</td>\n",
       "      <td>[i, 'm, so, frustrated, that, my, online, orde...</td>\n",
       "      <td>['m, frustrated, my, online, order, taking, fo...</td>\n",
       "      <td>'m frustrated my online order taking forever a...</td>\n",
       "      <td>0.327</td>\n",
       "      <td>0.673</td>\n",
       "      <td>0.000</td>\n",
       "      <td>-0.5267</td>\n",
       "      <td>negative</td>\n",
       "    </tr>\n",
       "    <tr>\n",
       "      <th>2</th>\n",
       "      <td>I just scored an amazing deal on my favorite ...</td>\n",
       "      <td>excited</td>\n",
       "      <td>i just scored an amazing deal on my favorite ...</td>\n",
       "      <td>[i, just, scored, an, amazing, deal, on, my, f...</td>\n",
       "      <td>[i, just, scored, an, amazing, deal, on, my, f...</td>\n",
       "      <td>[i, just, scored, an, amazing, deal, on, my, f...</td>\n",
       "      <td>[just, scored, amazing, deal, my, favorite, br...</td>\n",
       "      <td>just scored amazing deal my favorite brand sho...</td>\n",
       "      <td>0.000</td>\n",
       "      <td>0.507</td>\n",
       "      <td>0.493</td>\n",
       "      <td>0.7783</td>\n",
       "      <td>positive</td>\n",
       "    </tr>\n",
       "    <tr>\n",
       "      <th>3</th>\n",
       "      <td>I'm so disappointed that the size of my onlin...</td>\n",
       "      <td>disappointed</td>\n",
       "      <td>i'm so disappointed that the size of my onlin...</td>\n",
       "      <td>[i, 'm, so, disappointed, that, the, size, of,...</td>\n",
       "      <td>[i, 'm, so, disappointed, that, the, size, of,...</td>\n",
       "      <td>[i, 'm, so, disappointed, that, the, size, of,...</td>\n",
       "      <td>['m, disappointed, the, size, my, online, orde...</td>\n",
       "      <td>'m disappointed the size my online order n't fit</td>\n",
       "      <td>0.427</td>\n",
       "      <td>0.573</td>\n",
       "      <td>0.000</td>\n",
       "      <td>-0.6381</td>\n",
       "      <td>negative</td>\n",
       "    </tr>\n",
       "    <tr>\n",
       "      <th>4</th>\n",
       "      <td>I love the convenience of online shopping! I ...</td>\n",
       "      <td>convenience</td>\n",
       "      <td>i love the convenience of online shopping! i ...</td>\n",
       "      <td>[i, love, the, convenience, of, online, shoppi...</td>\n",
       "      <td>[i, love, the, convenience, of, online, shoppi...</td>\n",
       "      <td>[i, love, the, convenience, of, online, shoppi...</td>\n",
       "      <td>[love, convenience, online, shopping, can, sho...</td>\n",
       "      <td>love convenience online shopping can shop the ...</td>\n",
       "      <td>0.000</td>\n",
       "      <td>0.544</td>\n",
       "      <td>0.456</td>\n",
       "      <td>0.7717</td>\n",
       "      <td>positive</td>\n",
       "    </tr>\n",
       "  </tbody>\n",
       "</table>\n",
       "</div>"
      ],
      "text/plain": [
       "                                               Posts      Emotions   \n",
       "0   I just received my online order and it's perf...     satisfied  \\\n",
       "1  I'm so frustrated that my online order is taki...    frustrated   \n",
       "2   I just scored an amazing deal on my favorite ...       excited   \n",
       "3   I'm so disappointed that the size of my onlin...  disappointed   \n",
       "4   I love the convenience of online shopping! I ...   convenience   \n",
       "\n",
       "                                    review_processed   \n",
       "0   i just received my online order and it's perf...  \\\n",
       "1  i'm so frustrated that my online order is taki...   \n",
       "2   i just scored an amazing deal on my favorite ...   \n",
       "3   i'm so disappointed that the size of my onlin...   \n",
       "4   i love the convenience of online shopping! i ...   \n",
       "\n",
       "                                  review_processed_1   \n",
       "0  [i, just, received, my, online, order, and, it...  \\\n",
       "1  [i, 'm, so, frustrated, that, my, online, orde...   \n",
       "2  [i, just, scored, an, amazing, deal, on, my, f...   \n",
       "3  [i, 'm, so, disappointed, that, the, size, of,...   \n",
       "4  [i, love, the, convenience, of, online, shoppi...   \n",
       "\n",
       "                                  review_processed_2   \n",
       "0  [i, just, received, my, online, order, and, it...  \\\n",
       "1  [i, 'm, so, frustrated, that, my, online, orde...   \n",
       "2  [i, just, scored, an, amazing, deal, on, my, f...   \n",
       "3  [i, 'm, so, disappointed, that, the, size, of,...   \n",
       "4  [i, love, the, convenience, of, online, shoppi...   \n",
       "\n",
       "                                  review_processed_3   \n",
       "0  [i, just, received, my, online, order, and, it...  \\\n",
       "1  [i, 'm, so, frustrated, that, my, online, orde...   \n",
       "2  [i, just, scored, an, amazing, deal, on, my, f...   \n",
       "3  [i, 'm, so, disappointed, that, the, size, of,...   \n",
       "4  [i, love, the, convenience, of, online, shoppi...   \n",
       "\n",
       "                                  review_processed_4   \n",
       "0   [just, received, online, order, it, 's, perfect]  \\\n",
       "1  ['m, frustrated, my, online, order, taking, fo...   \n",
       "2  [just, scored, amazing, deal, my, favorite, br...   \n",
       "3  ['m, disappointed, the, size, my, online, orde...   \n",
       "4  [love, convenience, online, shopping, can, sho...   \n",
       "\n",
       "                                  review_processed_5    neg    neu    pos   \n",
       "0           just received online order it 's perfect  0.000  0.619  0.381  \\\n",
       "1  'm frustrated my online order taking forever a...  0.327  0.673  0.000   \n",
       "2  just scored amazing deal my favorite brand sho...  0.000  0.507  0.493   \n",
       "3   'm disappointed the size my online order n't fit  0.427  0.573  0.000   \n",
       "4  love convenience online shopping can shop the ...  0.000  0.544  0.456   \n",
       "\n",
       "   compound Sentiment  \n",
       "0    0.5719  positive  \n",
       "1   -0.5267  negative  \n",
       "2    0.7783  positive  \n",
       "3   -0.6381  negative  \n",
       "4    0.7717  positive  "
      ]
     },
     "execution_count": 882,
     "metadata": {},
     "output_type": "execute_result"
    }
   ],
   "source": [
    "### Create new variable with sentiment \"neutral,\" \"positive\" and \"negative\"\n",
    "\n",
    "df['Sentiment'] = df['compound'].apply(lambda x: 'positive' if x >0 else 'neutral' if x==0 else 'negative')\n",
    "\n",
    "df.head()\n",
    "\n"
   ]
  },
  {
   "attachments": {},
   "cell_type": "markdown",
   "metadata": {},
   "source": [
    "#### Sentiment categorize the sentiment associated with each data point in the compound  as either positive, neutral, or negative showing the emotional aspect of the data."
   ]
  },
  {
   "cell_type": "code",
   "execution_count": null,
   "metadata": {},
   "outputs": [
    {
     "data": {
      "image/png": "[encoded data removed]",
      "text/plain": [
       "<Figure size 640x480 with 1 Axes>"
      ]
     },
     "metadata": {},
     "output_type": "display_data"
    }
   ],
   "source": [
    "import matplotlib.pyplot as plt\n",
    "\n",
    "# Compute value counts for sentiment categories\n",
    "sentiment_counts = df['Sentiment'].value_counts()\n",
    "\n",
    "# Get the labels and counts for the pie chart\n",
    "labels = sentiment_counts.index\n",
    "counts = sentiment_counts.values\n",
    "\n",
    "# Create the pie chart\n",
    "plt.pie(counts, labels=labels, autopct='%1.1f%%', startangle=90)\n",
    "\n",
    "# Set aspect ratio to be equal so that pie is drawn as a circle\n",
    "plt.axis('equal')\n",
    "\n",
    "# Set chart title\n",
    "plt.title('Sentiment Distribution')\n",
    "\n",
    "# Display the chart\n",
    "plt.show()\n"
   ]
  },
  {
   "attachments": {},
   "cell_type": "markdown",
   "metadata": {},
   "source": [
    "#### The pie chart represents the sentiment distribution in the data by showing the proportions or percentages of each sentiment category."
   ]
  },
  {
   "attachments": {},
   "cell_type": "markdown",
   "metadata": {},
   "source": [
    "### Train and Test Split"
   ]
  },
  {
   "cell_type": "code",
   "execution_count": null,
   "metadata": {},
   "outputs": [
    {
     "name": "stdout",
     "output_type": "stream",
     "text": [
      "Value counts for Train sentiments\n",
      "Sentiment\n",
      "positive    70\n",
      "negative    42\n",
      "neutral      8\n",
      "Name: count, dtype: int64\n",
      "Value counts for Test sentiments\n",
      "Sentiment\n",
      "positive    18\n",
      "negative    11\n",
      "neutral      1\n",
      "Name: count, dtype: int64\n",
      "<class 'pandas.core.frame.DataFrame'>\n",
      "<class 'pandas.core.series.Series'>\n",
      "   index                                 review_processed_4   \n",
      "0      0   [just, received, online, order, it, 's, perfect]  \\\n",
      "1    143  [love, shopping, online, i, do, from, comfort,...   \n",
      "2     72  [had, great, experience, this, online, store, ...   \n",
      "3    116  [ca, n't, believe, affordable, online, store, ...   \n",
      "4     20  [just, got, scammed, an, online, store, never,...   \n",
      "\n",
      "                                    review_processed  \n",
      "0   i just received my online order and it's perf...  \n",
      "1   i love shopping online because i can do it fr...  \n",
      "2   i had a great experience with this online sto...  \n",
      "3   i can't believe how affordable this online st...  \n",
      "4   i just got scammed by an online store! i neve...  \n"
     ]
    }
   ],
   "source": [
    "from sklearn.model_selection import train_test_split\n",
    "import pandas as pd\n",
    "\n",
    "# Train Test Split Function\n",
    "def split_train_test(top_data_df_small, test_size=0.2, shuffle_state=True):\n",
    "    X_train, X_test, Y_train, Y_test = train_test_split(df[['review_processed_4','review_processed']], \n",
    "                                                        df['Sentiment'], \n",
    "                                                        shuffle=shuffle_state,\n",
    "                                                        test_size=test_size, \n",
    "                                                        random_state=15)\n",
    "    print(\"Value counts for Train sentiments\")\n",
    "    print(Y_train.value_counts())\n",
    "    \n",
    "    print(\"Value counts for Test sentiments\")\n",
    "    print(Y_test.value_counts())\n",
    "    print(type(X_train))\n",
    "    print(type(Y_train))\n",
    "    X_train = X_train.reset_index()\n",
    "    X_test = X_test.reset_index()\n",
    "    Y_train = Y_train.to_frame()\n",
    "    Y_train = Y_train.reset_index()\n",
    "    Y_test = Y_test.to_frame()\n",
    "    Y_test = Y_test.reset_index()\n",
    "    print(X_train.head())\n",
    "    return X_train, X_test, Y_train, Y_test\n",
    "\n",
    "# Call the train_test_split\n",
    "X_train, X_test, Y_train, Y_test = split_train_test(df)"
   ]
  },
  {
   "cell_type": "code",
   "execution_count": null,
   "metadata": {},
   "outputs": [
    {
     "name": "stdout",
     "output_type": "stream",
     "text": [
      "   index                                 review_processed_4   \n",
      "0      6   [just, received, online, order, it, 's, damaged]  \\\n",
      "1     61  [ca, n't, believe, fast, online, order, arrive...   \n",
      "2     90  ['m, love, the, shoe, ordered, this, online, s...   \n",
      "3     30  [just, a, terrible, experience, an, online, st...   \n",
      "4     31  ['m, excited, my, upcoming, online, shopping, ...   \n",
      "\n",
      "                                    review_processed  \n",
      "0   i just received my online order and it's dama...  \n",
      "1   i can't believe how fast my online order arri...  \n",
      "2   i'm so in love with the shoes i ordered from ...  \n",
      "3   i just had a terrible experience with an onli...  \n",
      "4   i'm so excited for my upcoming online shoppin...  \n"
     ]
    }
   ],
   "source": [
    "print(X_test.head())"
   ]
  },
  {
   "cell_type": "code",
   "execution_count": null,
   "metadata": {},
   "outputs": [
    {
     "name": "stdout",
     "output_type": "stream",
     "text": [
      "   index Sentiment\n",
      "0      0  positive\n",
      "1    143  positive\n",
      "2     72  positive\n",
      "3    116  positive\n",
      "4     20   neutral\n"
     ]
    }
   ],
   "source": [
    "print(Y_train.head())"
   ]
  },
  {
   "attachments": {},
   "cell_type": "markdown",
   "metadata": {},
   "source": [
    "###  Generating Word2Vec Model\n",
    "#### Word2Vec is an NLP model that learns word embeddings by training on text data. It captures semantic relationships between words and provides dense vector representations that can be used in various NLP tasks.\n",
    "#### Word2Vec analyze the semantic relationships between words, allow us to understand the emotional connotations associated with specific words, provide insights into how emotions are expressed and related, and enhance sentiment analysis or emotion detection models by providing meaningful representations of words, enabling more accurate understanding and classification of emotions expressed in social media posts."
   ]
  },
  {
   "cell_type": "code",
   "execution_count": null,
   "metadata": {},
   "outputs": [],
   "source": [
    "from gensim.models import Word2Vec\n",
    "\n",
    "# Skip-gram model. Below parameters have been selected after doing cross validation \n",
    "size_dim = 10 # Default number of dimensions of the embeddings. So no need to add separately\n",
    "window = 3 #Maximum distance between a target word and words around the target word\n",
    "min_count = 3 #Minimum count of words considered while training the model, words with lesser occurrence will be ignored\n",
    "sg = 1 #for skip gram model = 1 and for  CBOW =0\n",
    "review_online_processed = pd.Series(df['review_processed_4']).values\n",
    "\n",
    "# Train the Word2Vec Model\n",
    "w2v_model = Word2Vec(review_online_processed,vector_size=30, min_count = min_count, workers = 4, window = window, sg = sg)"
   ]
  },
  {
   "cell_type": "code",
   "execution_count": null,
   "metadata": {},
   "outputs": [
    {
     "data": {
      "text/plain": [
       "array([-0.02649723, -0.02286353,  0.01873156, -0.01687171,  0.00289035,\n",
       "       -0.02887497,  0.00206055, -0.00082014, -0.03574265,  0.00694503,\n",
       "       -0.00245994, -0.00029431,  0.04385583,  0.00639695, -0.02903237,\n",
       "       -0.03388055,  0.02699405, -0.01877779, -0.0158638 ,  0.02926249,\n",
       "        0.02006722, -0.04919611, -0.02099394, -0.00030813,  0.01780738,\n",
       "        0.0477097 ,  0.05032372,  0.03897376,  0.01210417, -0.03570239],\n",
       "      dtype=float32)"
      ]
     },
     "execution_count": 888,
     "metadata": {},
     "output_type": "execute_result"
    }
   ],
   "source": [
    "w2v_model.wv['shopping']"
   ]
  },
  {
   "cell_type": "code",
   "execution_count": null,
   "metadata": {},
   "outputs": [],
   "source": [
    "# Store the vectors for train data in following file\n",
    "OUTPUT_FOLDER=\"\"\n",
    "\n",
    "\n",
    "word2vec_filename = OUTPUT_FOLDER + 'train_review_word2vec.csv'\n",
    "with open(word2vec_filename, 'w+') as word2vec_file:\n",
    "    for index, row in X_train.iterrows():\n",
    "        # Taking average of vectors in a sentence. This will create an average array that captures the sentiment of the sentence\n",
    "        model_vector = (np.mean([w2v_model.wv[token] for token in row['review_processed_4'] if token in w2v_model.wv.key_to_index], axis=0)).tolist()\n",
    "        if index == 0:\n",
    "            header = \",\".join(str(ele) for ele in range(30))\n",
    "            word2vec_file.write(header)\n",
    "            word2vec_file.write(\"\\n\")\n",
    "            \n",
    "        # Check if the line exists else it is vector of zeros\n",
    "        if type(model_vector) is list:  \n",
    "            line1 = \",\".join( [str(vector_element) for vector_element in model_vector] )\n",
    "        else:\n",
    "            line1 = \",\".join([str(0) for i in range(30)])\n",
    "        word2vec_file.write(line1)\n",
    "        word2vec_file.write('\\n')"
   ]
  },
  {
   "attachments": {},
   "cell_type": "markdown",
   "metadata": {},
   "source": [
    "### Model Training"
   ]
  },
  {
   "cell_type": "code",
   "execution_count": null,
   "metadata": {},
   "outputs": [],
   "source": [
    "## Read the data\n",
    "# Load file in which features are stored\n",
    "word2vec_df = pd.read_csv(r\"train_review_word2vec.csv\")\n",
    "word2vec_df=word2vec_df.fillna(0)\n"
   ]
  },
  {
   "cell_type": "code",
   "execution_count": null,
   "metadata": {},
   "outputs": [
    {
     "data": {
      "text/html": [
       "<div>\n",
       "<style scoped>\n",
       "    .dataframe tbody tr th:only-of-type {\n",
       "        vertical-align: middle;\n",
       "    }\n",
       "\n",
       "    .dataframe tbody tr th {\n",
       "        vertical-align: top;\n",
       "    }\n",
       "\n",
       "    .dataframe thead th {\n",
       "        text-align: right;\n",
       "    }\n",
       "</style>\n",
       "<table border=\"1\" class=\"dataframe\">\n",
       "  <thead>\n",
       "    <tr style=\"text-align: right;\">\n",
       "      <th></th>\n",
       "      <th>0</th>\n",
       "      <th>1</th>\n",
       "      <th>2</th>\n",
       "      <th>3</th>\n",
       "      <th>4</th>\n",
       "      <th>5</th>\n",
       "      <th>6</th>\n",
       "      <th>7</th>\n",
       "      <th>8</th>\n",
       "      <th>9</th>\n",
       "      <th>...</th>\n",
       "      <th>20</th>\n",
       "      <th>21</th>\n",
       "      <th>22</th>\n",
       "      <th>23</th>\n",
       "      <th>24</th>\n",
       "      <th>25</th>\n",
       "      <th>26</th>\n",
       "      <th>27</th>\n",
       "      <th>28</th>\n",
       "      <th>29</th>\n",
       "    </tr>\n",
       "  </thead>\n",
       "  <tbody>\n",
       "    <tr>\n",
       "      <th>0</th>\n",
       "      <td>-0.015507</td>\n",
       "      <td>-0.024793</td>\n",
       "      <td>0.078790</td>\n",
       "      <td>0.018730</td>\n",
       "      <td>0.017385</td>\n",
       "      <td>-0.010409</td>\n",
       "      <td>0.026954</td>\n",
       "      <td>0.028511</td>\n",
       "      <td>-0.046778</td>\n",
       "      <td>0.008593</td>\n",
       "      <td>...</td>\n",
       "      <td>0.009927</td>\n",
       "      <td>-0.028705</td>\n",
       "      <td>-0.025103</td>\n",
       "      <td>0.039153</td>\n",
       "      <td>0.027663</td>\n",
       "      <td>0.025217</td>\n",
       "      <td>0.039690</td>\n",
       "      <td>0.038264</td>\n",
       "      <td>-0.007221</td>\n",
       "      <td>-0.038539</td>\n",
       "    </tr>\n",
       "    <tr>\n",
       "      <th>1</th>\n",
       "      <td>-0.015215</td>\n",
       "      <td>-0.008612</td>\n",
       "      <td>0.045206</td>\n",
       "      <td>0.013704</td>\n",
       "      <td>0.007181</td>\n",
       "      <td>-0.000692</td>\n",
       "      <td>0.035331</td>\n",
       "      <td>0.018234</td>\n",
       "      <td>-0.029485</td>\n",
       "      <td>0.006200</td>\n",
       "      <td>...</td>\n",
       "      <td>0.001543</td>\n",
       "      <td>-0.018615</td>\n",
       "      <td>-0.004820</td>\n",
       "      <td>0.027111</td>\n",
       "      <td>0.017706</td>\n",
       "      <td>0.021455</td>\n",
       "      <td>0.029914</td>\n",
       "      <td>0.029184</td>\n",
       "      <td>-0.003369</td>\n",
       "      <td>-0.030762</td>\n",
       "    </tr>\n",
       "    <tr>\n",
       "      <th>2</th>\n",
       "      <td>-0.004113</td>\n",
       "      <td>-0.015279</td>\n",
       "      <td>0.056778</td>\n",
       "      <td>0.009374</td>\n",
       "      <td>0.002994</td>\n",
       "      <td>0.007507</td>\n",
       "      <td>0.033223</td>\n",
       "      <td>0.025642</td>\n",
       "      <td>-0.031242</td>\n",
       "      <td>0.016352</td>\n",
       "      <td>...</td>\n",
       "      <td>0.001929</td>\n",
       "      <td>-0.026582</td>\n",
       "      <td>-0.007517</td>\n",
       "      <td>0.036926</td>\n",
       "      <td>0.024111</td>\n",
       "      <td>0.011690</td>\n",
       "      <td>0.032060</td>\n",
       "      <td>0.026620</td>\n",
       "      <td>-0.004819</td>\n",
       "      <td>-0.029526</td>\n",
       "    </tr>\n",
       "    <tr>\n",
       "      <th>3</th>\n",
       "      <td>-0.017239</td>\n",
       "      <td>-0.024534</td>\n",
       "      <td>0.066654</td>\n",
       "      <td>0.010332</td>\n",
       "      <td>0.019212</td>\n",
       "      <td>-0.003842</td>\n",
       "      <td>0.027008</td>\n",
       "      <td>0.028889</td>\n",
       "      <td>-0.040933</td>\n",
       "      <td>0.010838</td>\n",
       "      <td>...</td>\n",
       "      <td>0.004097</td>\n",
       "      <td>-0.030207</td>\n",
       "      <td>-0.013136</td>\n",
       "      <td>0.034652</td>\n",
       "      <td>0.020173</td>\n",
       "      <td>0.026594</td>\n",
       "      <td>0.045231</td>\n",
       "      <td>0.029633</td>\n",
       "      <td>-0.006168</td>\n",
       "      <td>-0.023966</td>\n",
       "    </tr>\n",
       "    <tr>\n",
       "      <th>4</th>\n",
       "      <td>-0.014751</td>\n",
       "      <td>-0.023097</td>\n",
       "      <td>0.046211</td>\n",
       "      <td>0.009705</td>\n",
       "      <td>0.012961</td>\n",
       "      <td>-0.003304</td>\n",
       "      <td>0.017939</td>\n",
       "      <td>0.006761</td>\n",
       "      <td>-0.032322</td>\n",
       "      <td>0.003506</td>\n",
       "      <td>...</td>\n",
       "      <td>0.006325</td>\n",
       "      <td>-0.014607</td>\n",
       "      <td>-0.008319</td>\n",
       "      <td>0.023666</td>\n",
       "      <td>0.015561</td>\n",
       "      <td>0.014706</td>\n",
       "      <td>0.031462</td>\n",
       "      <td>0.030830</td>\n",
       "      <td>-0.006865</td>\n",
       "      <td>-0.027660</td>\n",
       "    </tr>\n",
       "  </tbody>\n",
       "</table>\n",
       "<p>5 rows × 30 columns</p>\n",
       "</div>"
      ],
      "text/plain": [
       "          0         1         2         3         4         5         6   \n",
       "0 -0.015507 -0.024793  0.078790  0.018730  0.017385 -0.010409  0.026954  \\\n",
       "1 -0.015215 -0.008612  0.045206  0.013704  0.007181 -0.000692  0.035331   \n",
       "2 -0.004113 -0.015279  0.056778  0.009374  0.002994  0.007507  0.033223   \n",
       "3 -0.017239 -0.024534  0.066654  0.010332  0.019212 -0.003842  0.027008   \n",
       "4 -0.014751 -0.023097  0.046211  0.009705  0.012961 -0.003304  0.017939   \n",
       "\n",
       "          7         8         9  ...        20        21        22        23   \n",
       "0  0.028511 -0.046778  0.008593  ...  0.009927 -0.028705 -0.025103  0.039153  \\\n",
       "1  0.018234 -0.029485  0.006200  ...  0.001543 -0.018615 -0.004820  0.027111   \n",
       "2  0.025642 -0.031242  0.016352  ...  0.001929 -0.026582 -0.007517  0.036926   \n",
       "3  0.028889 -0.040933  0.010838  ...  0.004097 -0.030207 -0.013136  0.034652   \n",
       "4  0.006761 -0.032322  0.003506  ...  0.006325 -0.014607 -0.008319  0.023666   \n",
       "\n",
       "         24        25        26        27        28        29  \n",
       "0  0.027663  0.025217  0.039690  0.038264 -0.007221 -0.038539  \n",
       "1  0.017706  0.021455  0.029914  0.029184 -0.003369 -0.030762  \n",
       "2  0.024111  0.011690  0.032060  0.026620 -0.004819 -0.029526  \n",
       "3  0.020173  0.026594  0.045231  0.029633 -0.006168 -0.023966  \n",
       "4  0.015561  0.014706  0.031462  0.030830 -0.006865 -0.027660  \n",
       "\n",
       "[5 rows x 30 columns]"
      ]
     },
     "execution_count": 891,
     "metadata": {},
     "output_type": "execute_result"
    }
   ],
   "source": [
    "word2vec_df.head()"
   ]
  },
  {
   "attachments": {},
   "cell_type": "markdown",
   "metadata": {},
   "source": [
    "### Random Forest Model"
   ]
  },
  {
   "attachments": {},
   "cell_type": "markdown",
   "metadata": {},
   "source": [
    "#### The data is fed into a Random forest classifier to predict the Sentiments and also compute time needed"
   ]
  },
  {
   "cell_type": "code",
   "execution_count": null,
   "metadata": {},
   "outputs": [
    {
     "name": "stdout",
     "output_type": "stream",
     "text": [
      "Time taken to fit the model with word2vec vectors: 0.21114706993103027\n"
     ]
    }
   ],
   "source": [
    "import time\n",
    "\n",
    "#Import the DecisionTreeeClassifier\n",
    "from sklearn.ensemble import RandomForestClassifier\n",
    "\n",
    "#Initialize the model\n",
    "clf_decision_word2vec = RandomForestClassifier(\n",
    "n_estimators= 30,\n",
    " min_samples_split= 2,\n",
    " min_samples_leaf= 2,\n",
    " max_features= 'auto',\n",
    " max_depth= 12,\n",
    " criterion= 'entropy',\n",
    " bootstrap= True,\n",
    "class_weight='balanced') \n",
    "\n",
    "start_time = time.time()\n",
    "\n",
    "# Fit the model\n",
    "clf_decision_word2vec.fit(word2vec_df, Y_train['Sentiment'])\n",
    "print(\"Time taken to fit the model with word2vec vectors: \" + str(time.time() - start_time))"
   ]
  },
  {
   "attachments": {},
   "cell_type": "markdown",
   "metadata": {},
   "source": [
    "The output tells the time it took (0.211 seconds) to fit the RandomForestClassifier model using word2vec vectors as input, which can be used to assess the speed and efficiency of the model training process."
   ]
  },
  {
   "attachments": {},
   "cell_type": "markdown",
   "metadata": {},
   "source": [
    "### Performance on Train Set"
   ]
  },
  {
   "cell_type": "code",
   "execution_count": null,
   "metadata": {},
   "outputs": [
    {
     "name": "stdout",
     "output_type": "stream",
     "text": [
      "              precision    recall  f1-score   support\n",
      "\n",
      "    negative       1.00      1.00      1.00        42\n",
      "     neutral       0.89      1.00      0.94         8\n",
      "    positive       1.00      0.99      0.99        70\n",
      "\n",
      "    accuracy                           0.99       120\n",
      "   macro avg       0.96      1.00      0.98       120\n",
      "weighted avg       0.99      0.99      0.99       120\n",
      "\n"
     ]
    }
   ],
   "source": [
    "from sklearn.metrics import classification_report\n",
    "from sklearn.metrics import confusion_matrix\n",
    "\n",
    "train_features = []\n",
    "\n",
    "for index, row in X_train.iterrows():\n",
    "    \n",
    "    vector = np.mean([w2v_model.wv[token] for token in row['review_processed_4'] if token in w2v_model.wv.key_to_index], axis=0)\n",
    "    \n",
    "    if type(vector) is np.ndarray:\n",
    "        train_features.append(vector)\n",
    "    else:\n",
    "        train_features.append(np.array([0 for i in range(30)]))\n",
    "        \n",
    "train_predictions = clf_decision_word2vec.predict(train_features)\n",
    "\n",
    "print(classification_report(Y_train['Sentiment'],train_predictions))"
   ]
  },
  {
   "attachments": {},
   "cell_type": "markdown",
   "metadata": {},
   "source": [
    "Precision:\n",
    "\n",
    "\"Negative\" class: Precision of 1.00 (100%) means all predicted negatives were correct.\n",
    "\n",
    "\"Neutral\" class: Precision of 0.89 (89%) indicates that 89% of predicted neutrals were correct.\n",
    "\n",
    "\"Positive\" class: Precision of 1.00 (100%) means all predicted positives were correct.\n",
    "\n",
    "Recall:\n",
    "\n",
    "\"Negative\" class: Recall of 1.00 (100%) means all actual negatives were correctly predicted.\n",
    "\n",
    "\"Neutral\" class: Recall of 1.00 (100%) means all actual neutrals were correctly predicted.\n",
    "\n",
    "\"Positive\" class: Recall of 0.99 (99%) indicates that 99% of actual positives were correctly predicted.\n",
    "\n",
    "F1-score:\n",
    "\n",
    "\"Negative\" class: F1-score of 1.00 (100%) represents a perfect balance between precision and recall for negatives.\n",
    "\n",
    "\"Neutral\" class: F1-score of 0.94 (94%) indicates a good balance between precision and recall for neutrals.\n",
    "\n",
    "\"Positive\" class: F1-score of 0.99 (99%) represents a strong balance between precision and recall for positives.\n",
    "\n",
    "\n",
    "Accuracy: Overall accuracy is 0.99 (99%), indicating that 99% of instances were correctly classified across all classes.\n",
    "\n",
    "The classification report shows the model's performance for each sentiment class. Precision, recall, and F1-score indicate the accuracy, completeness and balanced performance respectively. Support shows the dataset size, and accuracy represents the overall correct classification rate. \n",
    "\n"
   ]
  },
  {
   "cell_type": "code",
   "execution_count": null,
   "metadata": {},
   "outputs": [
    {
     "data": {
      "image/png": "[encoded data removed]",
      "text/plain": [
       "<Figure size 500x400 with 2 Axes>"
      ]
     },
     "metadata": {},
     "output_type": "display_data"
    },
    {
     "name": "stdout",
     "output_type": "stream",
     "text": [
      "          Negative  Neutral  Positive\n",
      "Negative        42        0         0\n",
      "Neutral          0        8         0\n",
      "Positive         0        1        69\n"
     ]
    }
   ],
   "source": [
    "cm = confusion_matrix(Y_train['Sentiment'],train_predictions)\n",
    "cm_df = pd.DataFrame(cm,\n",
    "index = ['Negative','Neutral','Positive'],\n",
    "columns = ['Negative','Neutral','Positive'])\n",
    "#Plotting the confusion matrix\n",
    "plt.figure(figsize=(5,4))\n",
    "sns.heatmap(cm_df, annot=True,fmt='g')\n",
    "plt.title('Confusion Matrix')\n",
    "plt.ylabel('Actual Values')\n",
    "plt.xlabel('Predicted Values')\n",
    "plt.show()\n",
    "\n",
    "print(cm_df)"
   ]
  },
  {
   "attachments": {},
   "cell_type": "markdown",
   "metadata": {},
   "source": [
    "The confusion matrix output represents the counts of instances correctly classified for each sentiment class combination and evaluate the performance of the classification model in predicting the sentiment. The model's performance of the confusion matrix is good, with no misclassifications observed for the given training data."
   ]
  },
  {
   "cell_type": "code",
   "execution_count": null,
   "metadata": {},
   "outputs": [
    {
     "name": "stdout",
     "output_type": "stream",
     "text": [
      "Accuracy for RFC Model: 0.6583333333333334\n"
     ]
    }
   ],
   "source": [
    "from sklearn.metrics import accuracy_score\n",
    "\n",
    "from sklearn.model_selection import cross_val_score\n",
    "\n",
    "# Perform cross-validation\n",
    "\n",
    "scores = cross_val_score(clf_decision_word2vec, word2vec_df, Y_train['Sentiment'], cv=5)\n",
    "\n",
    "# Calculate the mean accuracy\n",
    "\n",
    "accuracy_RFC = scores.mean()\n",
    "\n",
    "print(\"Accuracy for RFC Model:\", accuracy_RFC)"
   ]
  },
  {
   "attachments": {},
   "cell_type": "markdown",
   "metadata": {},
   "source": [
    "The accuracy score for the Random Forest Classifier Model indicates that the model is able to predict the sentiment of the text data with an accuracy of around 65.83% and the model is performing moderately well."
   ]
  },
  {
   "cell_type": "code",
   "execution_count": null,
   "metadata": {},
   "outputs": [
    {
     "name": "stdout",
     "output_type": "stream",
     "text": [
      "              precision    recall  f1-score   support\n",
      "\n",
      "    negative       0.75      0.55      0.63        11\n",
      "     neutral       0.00      0.00      0.00         1\n",
      "    positive       0.73      0.89      0.80        18\n",
      "\n",
      "    accuracy                           0.73        30\n",
      "   macro avg       0.49      0.48      0.48        30\n",
      "weighted avg       0.71      0.73      0.71        30\n",
      "\n"
     ]
    }
   ],
   "source": [
    "from sklearn.metrics import classification_report\n",
    "\n",
    "test_features = []\n",
    "\n",
    "for index, row in X_test.iterrows():\n",
    "    \n",
    "    vector = np.mean([w2v_model.wv[token] for token in row['review_processed_4'] if token in w2v_model.wv.key_to_index], axis=0)\n",
    "    \n",
    "    if type(vector) is np.ndarray:\n",
    "        test_features.append(vector)\n",
    "    else:\n",
    "        test_features.append(np.array([0 for i in range(100)]))\n",
    "        \n",
    "test_predictions = clf_decision_word2vec.predict(test_features)\n",
    "\n",
    "print(classification_report(Y_test['Sentiment'],test_predictions))"
   ]
  },
  {
   "attachments": {},
   "cell_type": "markdown",
   "metadata": {},
   "source": [
    "### Logistics Regression Model"
   ]
  },
  {
   "cell_type": "code",
   "execution_count": null,
   "metadata": {},
   "outputs": [
    {
     "name": "stdout",
     "output_type": "stream",
     "text": [
      "Time taken to fit the model with word2vec vectors: 0.09940576553344727\n"
     ]
    }
   ],
   "source": [
    "import time\n",
    "\n",
    "from sklearn.model_selection import train_test_split\n",
    "from sklearn.linear_model import LogisticRegression\n",
    "\n",
    "# Creating an instance of Logistic Regression model\n",
    "logreg = LogisticRegression()\n",
    "start_time = time.time()\n",
    "\n",
    "\n",
    "# Training the model on the training data\n",
    "logreg.fit(word2vec_df, Y_train['Sentiment'])\n",
    "print(\"Time taken to fit the model with word2vec vectors: \" + str(time.time() - start_time))"
   ]
  },
  {
   "attachments": {},
   "cell_type": "markdown",
   "metadata": {},
   "source": [
    "The output shows the time it took (0.0994 seconds) to fit the Logistic Regression model using word2vec vectors as input, which can be used to assess the efficiency and scalability of the model training process."
   ]
  },
  {
   "cell_type": "code",
   "execution_count": null,
   "metadata": {},
   "outputs": [
    {
     "name": "stdout",
     "output_type": "stream",
     "text": [
      "              precision    recall  f1-score   support\n",
      "\n",
      "    negative       0.00      0.00      0.00        42\n",
      "     neutral       0.00      0.00      0.00         8\n",
      "    positive       0.58      1.00      0.74        70\n",
      "\n",
      "    accuracy                           0.58       120\n",
      "   macro avg       0.19      0.33      0.25       120\n",
      "weighted avg       0.34      0.58      0.43       120\n",
      "\n"
     ]
    }
   ],
   "source": [
    "train_predictions_LR = logreg.predict(train_features)\n",
    "print(classification_report(Y_train['Sentiment'],train_predictions_LR))"
   ]
  },
  {
   "attachments": {},
   "cell_type": "markdown",
   "metadata": {},
   "source": [
    "Negative Sentiment:\n",
    "\n",
    "The model incorrectly predicted all instances as either neutral or positive, resulting in a precision, recall, and F1-score of 0.00 for the negative sentiment class. \n",
    "\n",
    "Neutral Sentiment:\n",
    "\n",
    " The model also incorrectly classified all instances as either negative or positive, resulting in a precision, recall, and F1-score of 0.00 for the neutral sentiment class. \n",
    "\n",
    "Positive Sentiment: \n",
    "\n",
    "The model correctly predicted 58% of instances as positive, resulting in a precision of 0.58, recall of 1.00, and an F1-score of 0.74 for the positive sentiment class. \n",
    "\n",
    "Accuracy: The overall accuracy of the model is 58%, indicating that approximately 58% of the dataset were classified correctly.\n",
    "\n",
    "The classification report shows that model performed poorly for the negative and neutral sentiment classes, while it demonstrates relatively better performance for the positive sentiment class. The overall accuracy is 58%, indicating that the model correctly classified 58% of the instances"
   ]
  },
  {
   "cell_type": "code",
   "execution_count": null,
   "metadata": {},
   "outputs": [
    {
     "data": {
      "image/png": "[encoded data removed]",
      "text/plain": [
       "<Figure size 500x400 with 2 Axes>"
      ]
     },
     "metadata": {},
     "output_type": "display_data"
    },
    {
     "name": "stdout",
     "output_type": "stream",
     "text": [
      "          Negative  Neutral  Positive\n",
      "Negative        42        0         0\n",
      "Neutral          0        8         0\n",
      "Positive         0        1        69\n"
     ]
    }
   ],
   "source": [
    "cm = confusion_matrix(Y_train['Sentiment'],train_predictions)\n",
    "cm_df = pd.DataFrame(cm,\n",
    "index = ['Negative','Neutral','Positive'],\n",
    "columns = ['Negative','Neutral','Positive'])\n",
    "#Plotting the confusion matrix\n",
    "plt.figure(figsize=(5,4))\n",
    "sns.heatmap(cm_df, annot=True,fmt='g')\n",
    "plt.title('Confusion Matrix')\n",
    "plt.ylabel('Actual Values')\n",
    "plt.xlabel('Predicted Values')\n",
    "plt.show()\n",
    "\n",
    "print(cm_df)"
   ]
  },
  {
   "attachments": {},
   "cell_type": "markdown",
   "metadata": {},
   "source": [
    "42 instances were correctly classified as \"Negative\" (True Negatives).\n",
    "\n",
    "8 instances were correctly classified as \"Neutral\" (True Neutrals).\n",
    "\n",
    "69 instances were correctly classified as \"Positive\" (True Positives).\n",
    "\n",
    "1 instance of a positive observation was incorrectly classified as \"Negative\" (False Negative).\n",
    "\n",
    "There were no instances of negative or neutral observations incorrectly classified as \"Positive\" (False Positive).\n",
    "\n",
    "There were no instances of negative or positive observations incorrectly classified as \"Neutral\" (False Neutral).\n",
    "\n",
    "The majority of instances across all sentiment categories (negative, neutral, and positive) are correctly classified.\n",
    "\n",
    "\n"
   ]
  },
  {
   "cell_type": "code",
   "execution_count": null,
   "metadata": {},
   "outputs": [
    {
     "name": "stdout",
     "output_type": "stream",
     "text": [
      "Accuracy for LR Model: 0.6166666666666667\n"
     ]
    }
   ],
   "source": [
    "from sklearn.metrics import accuracy_score\n",
    "\n",
    "from sklearn.model_selection import cross_val_score\n",
    "\n",
    "# Perform cross-validation\n",
    "\n",
    "scores = cross_val_score(clf_decision_word2vec, word2vec_df, Y_train['Sentiment'], cv=5)\n",
    "\n",
    "# Calculate the mean accuracy\n",
    "\n",
    "accuracy_LR = scores.mean()\n",
    "\n",
    "print(\"Accuracy for LR Model:\", accuracy_LR)"
   ]
  },
  {
   "attachments": {},
   "cell_type": "markdown",
   "metadata": {},
   "source": [
    "The accuracy score of 0.6166 indicates that the Logistics Regression model correctly predicts the sentiment of the data in approximately 61.66% of the cases. Accuracy is a common evaluation metric for classification models, and a higher accuracy score generally indicates better performance."
   ]
  },
  {
   "cell_type": "code",
   "execution_count": null,
   "metadata": {},
   "outputs": [
    {
     "name": "stdout",
     "output_type": "stream",
     "text": [
      "              precision    recall  f1-score   support\n",
      "\n",
      "    negative       0.00      0.00      0.00        11\n",
      "     neutral       0.00      0.00      0.00         1\n",
      "    positive       0.60      1.00      0.75        18\n",
      "\n",
      "    accuracy                           0.60        30\n",
      "   macro avg       0.20      0.33      0.25        30\n",
      "weighted avg       0.36      0.60      0.45        30\n",
      "\n"
     ]
    }
   ],
   "source": [
    "from sklearn.metrics import classification_report\n",
    "\n",
    "test_features = []\n",
    "\n",
    "for index, row in X_test.iterrows():\n",
    "    \n",
    "    vector = np.mean([w2v_model.wv[token] for token in row['review_processed_4'] if token in w2v_model.wv.key_to_index], axis=0)\n",
    "    \n",
    "    if type(vector) is np.ndarray:\n",
    "        test_features.append(vector)\n",
    "    else:\n",
    "        test_features.append(np.array([0 for i in range(100)]))\n",
    "        \n",
    "test_predictions_LR = logreg.predict(test_features)\n",
    "print(classification_report(Y_test['Sentiment'],test_predictions_LR))"
   ]
  },
  {
   "attachments": {},
   "cell_type": "markdown",
   "metadata": {},
   "source": [
    "### Emotion Detection"
   ]
  },
  {
   "cell_type": "code",
   "execution_count": null,
   "metadata": {},
   "outputs": [
    {
     "data": {
      "text/plain": [
       "array(['satisfied', 'frustrated', 'excited', 'disappointed',\n",
       "       'convenience', 'annoyed', 'impressed', 'grateful', 'expensive',\n",
       "       'relieved', 'happy', 'addicted', 'helpful', 'obsessed',\n",
       "       'surprised', 'mislead', 'sad', 'joy', 'delighted', 'anger',\n",
       "       'amazed', 'appreciated', 'love'], dtype=object)"
      ]
     },
     "execution_count": 902,
     "metadata": {},
     "output_type": "execute_result"
    }
   ],
   "source": [
    "df['Emotions'].unique()"
   ]
  },
  {
   "attachments": {},
   "cell_type": "markdown",
   "metadata": {},
   "source": [
    "This shows the emotions of each posts in the dataset"
   ]
  },
  {
   "cell_type": "code",
   "execution_count": null,
   "metadata": {},
   "outputs": [
    {
     "data": {
      "text/plain": [
       "Emotions\n",
       "disappointed    25\n",
       "excited         23\n",
       "satisfied       19\n",
       "frustrated      16\n",
       "happy           14\n",
       "annoyed          8\n",
       "delighted        7\n",
       "impressed        7\n",
       "appreciated      5\n",
       "convenience      4\n",
       "surprised        4\n",
       "anger            3\n",
       "grateful         2\n",
       "joy              2\n",
       "relieved         2\n",
       "expensive        2\n",
       "amazed           1\n",
       "addicted         1\n",
       "sad              1\n",
       "mislead          1\n",
       "obsessed         1\n",
       "helpful          1\n",
       "love             1\n",
       "Name: count, dtype: int64"
      ]
     },
     "execution_count": 903,
     "metadata": {},
     "output_type": "execute_result"
    }
   ],
   "source": [
    "df['Emotions'].value_counts()"
   ]
  },
  {
   "attachments": {},
   "cell_type": "markdown",
   "metadata": {},
   "source": [
    "### Merging similar emotions together "
   ]
  },
  {
   "cell_type": "code",
   "execution_count": null,
   "metadata": {},
   "outputs": [
    {
     "data": {
      "text/plain": [
       "Emotions\n",
       "disappointed    27\n",
       "satisfied       24\n",
       "excited         23\n",
       "happy           20\n",
       "frustrated      18\n",
       "delighted       15\n",
       "impressed       12\n",
       "annoyed         11\n",
       "Name: Emotions, dtype: int64"
      ]
     },
     "execution_count": 904,
     "metadata": {},
     "output_type": "execute_result"
    }
   ],
   "source": [
    "# We are going to merge some  categories to make a data augmentation\n",
    "df['Emotions'].replace(to_replace=['appreciated', 'grateful', 'love'], value='delighted', inplace=True)\n",
    "\n",
    "# Let's replace 'sad' and 'mislead' for 'disappointed'\n",
    "df['Emotions'].replace(to_replace=['sad','mislead'],value='disappointed', inplace=True)\n",
    "\n",
    "# Let's replace 'convenience' and 'helpful' for 'satisfied'\n",
    "df['Emotions'].replace(to_replace=['convenience','helpful'],value='satisfied', inplace=True)\n",
    "\n",
    "# Let's replace 'surprised' and 'amazed' for 'impressed'\n",
    "df['Emotions'].replace(to_replace=['surprised','amazed'],value='impressed',inplace=True)\n",
    "\n",
    "# Let's replace 'anger' for 'annoyed'\n",
    "df['Emotions'].replace(to_replace='anger', value='annoyed', inplace=True)\n",
    "\n",
    "# Let's replace 'joy','relieved','addicted' and 'obsessed' for 'happy'\n",
    "df['Emotions'].replace(to_replace=['joy','relieved','addicted','obsessed'],value='happy', inplace=True)\n",
    "\n",
    "# Let's replace 'expensive' for 'frustrated'\n",
    "df['Emotions'].replace(to_replace='expensive', value='frustrated', inplace=True)\n",
    "\n",
    "df.groupby('Emotions')['Emotions'].count().sort_values(ascending=False)"
   ]
  },
  {
   "cell_type": "code",
   "execution_count": null,
   "metadata": {},
   "outputs": [
    {
     "data": {
      "image/png": "[encoded data removed]",
      "text/plain": [
       "<Figure size 1000x1000 with 1 Axes>"
      ]
     },
     "metadata": {},
     "output_type": "display_data"
    }
   ],
   "source": [
    "plt.figure(figsize=(10,10))\n",
    "df['Emotions'].value_counts().plot(kind = 'bar')\n",
    "plt.show()"
   ]
  },
  {
   "attachments": {},
   "cell_type": "markdown",
   "metadata": {},
   "source": [
    "The bar chart represents the distribution of merged emotions."
   ]
  },
  {
   "cell_type": "code",
   "execution_count": null,
   "metadata": {},
   "outputs": [],
   "source": [
    "#Encoding output labels\n",
    "from sklearn import preprocessing\n",
    "lbl_enc = preprocessing.LabelEncoder()\n",
    "y = lbl_enc.fit_transform(df.Emotions.values)\n",
    "\n",
    "\n",
    "from sklearn.model_selection import train_test_split\n",
    "X_train, X_val, y_train, y_val = train_test_split(df.Posts.values, y, stratify=y, random_state=42, test_size=0.2, shuffle=True)"
   ]
  },
  {
   "cell_type": "code",
   "execution_count": null,
   "metadata": {},
   "outputs": [
    {
     "name": "stdout",
     "output_type": "stream",
     "text": [
      "['annoyed' 'delighted' 'disappointed' 'excited' 'frustrated' 'happy'\n",
      " 'impressed' 'satisfied']\n"
     ]
    }
   ],
   "source": [
    "print(lbl_enc.classes_)"
   ]
  },
  {
   "attachments": {},
   "cell_type": "markdown",
   "metadata": {},
   "source": [
    "The ouput shows the unique classes in the encoded labels representing the distinct emotions present in the dataset\n",
    "\n",
    "The index of each label is the value given by the encoder: \n",
    "\n",
    "annoyed-0 , delighted-1 , disappointed-2, excited-3, frustrated-4, happy-5,\n",
    " impressed-6, satisfied-7"
   ]
  },
  {
   "cell_type": "code",
   "execution_count": null,
   "metadata": {},
   "outputs": [],
   "source": [
    "# Extracting TF-IDF parameters\n",
    "from sklearn.feature_extraction.text import TfidfVectorizer\n",
    "tfidf = TfidfVectorizer(max_features= 400, analyzer='word',ngram_range=(1,3))\n",
    "X_train_tfidf = tfidf.fit_transform(X_train)\n",
    "X_val_tfidf = tfidf.fit_transform(X_val)"
   ]
  },
  {
   "cell_type": "code",
   "execution_count": null,
   "metadata": {},
   "outputs": [],
   "source": [
    "## Extracting Count Vectors Parameters\n",
    "from sklearn.feature_extraction.text import CountVectorizer\n",
    "count_vect = CountVectorizer(analyzer='word')\n",
    "count_vect.fit(df['Posts'])\n",
    "X_train_count =  count_vect.transform(X_train)\n",
    "X_val_count =  count_vect.transform(X_val)"
   ]
  },
  {
   "cell_type": "code",
   "execution_count": null,
   "metadata": {},
   "outputs": [
    {
     "name": "stdout",
     "output_type": "stream",
     "text": [
      "random forest tfidf accuracy 0.06666666666666667\n"
     ]
    }
   ],
   "source": [
    "# Model 1: Random Forest Classifier\n",
    "from sklearn.ensemble import RandomForestClassifier\n",
    "rf = RandomForestClassifier(n_estimators=30)\n",
    "rf.fit(X_train_tfidf, y_train)\n",
    "y_pred = rf.predict(X_val_tfidf)\n",
    "print('random forest tfidf accuracy %s' % accuracy_score(y_pred, y_val))"
   ]
  },
  {
   "attachments": {},
   "cell_type": "markdown",
   "metadata": {},
   "source": [
    "The random forest tfidf accuracy (0.06666666666666667) represents the accuracy score of the Random Forest classifier model when using TF-IDF (Term Frequency-Inverse Document Frequency) encoded features for prediction on the validation set.\n",
    "\n",
    "The accuracy score of 0.0667 indicates that the model's predictions align with the true labels in the validation set approximately 6.67% of the time. The model's performance is quite low, as it is only able to correctly predict the emotions in the validation set at a very low rate."
   ]
  },
  {
   "cell_type": "code",
   "execution_count": null,
   "metadata": {},
   "outputs": [
    {
     "name": "stdout",
     "output_type": "stream",
     "text": [
      "log reg tfidf accuracy 0.2\n"
     ]
    }
   ],
   "source": [
    "# Model 2: logistic regression\n",
    "from sklearn.linear_model import LogisticRegression\n",
    "logreg = LogisticRegression(C=1, max_iter=21000)\n",
    "logreg.fit(X_train_tfidf, y_train)\n",
    "y_pred = logreg.predict(X_val_tfidf)\n",
    "print('log reg tfidf accuracy %s' % accuracy_score(y_pred, y_val))"
   ]
  },
  {
   "attachments": {},
   "cell_type": "markdown",
   "metadata": {},
   "source": [
    "The log reg tfidf accuracy (0.2) represents the accuracy score of the Logistic Regression model when using TF-IDF (Term Frequency-Inverse Document Frequency) encoded features for prediction on the validation set. The accuracy score of 0.2 indicates that the model's predictions align with the true labels in the validation set and the model's performance is relatively low, as it is only able to correctly predict the emotions in the validation set around 20% of the time."
   ]
  },
  {
   "cell_type": "code",
   "execution_count": null,
   "metadata": {},
   "outputs": [
    {
     "name": "stdout",
     "output_type": "stream",
     "text": [
      "random forest with count vectors accuracy 0.6666666666666666\n"
     ]
    }
   ],
   "source": [
    "# Model 1: Random Forest Classifier\n",
    "from sklearn.ensemble import RandomForestClassifier\n",
    "rf = RandomForestClassifier(n_estimators=30)\n",
    "rf.fit(X_train_count, y_train)\n",
    "y_pred = rf.predict(X_val_count)\n",
    "print('random forest with count vectors accuracy %s' % accuracy_score(y_pred, y_val))"
   ]
  },
  {
   "attachments": {},
   "cell_type": "markdown",
   "metadata": {},
   "source": [
    "The random forest with count vectors accuracy (0.6666666666666666) represents the accuracy score of the Random Forest classifier model when using count vectors as features for prediction on the validation set.\n",
    "\n",
    "The accuracy score of 0.6667 indicates that the model's predictions align with the true labels in the validation set approximately 66.67% of the time and the model's performance is relatively good, as it is able to correctly predict the emotions in the validation set."
   ]
  },
  {
   "cell_type": "code",
   "execution_count": null,
   "metadata": {},
   "outputs": [
    {
     "name": "stdout",
     "output_type": "stream",
     "text": [
      "log reg count vectors accuracy 0.5333333333333333\n"
     ]
    }
   ],
   "source": [
    "# Model 2: Logistic Regression\n",
    "from sklearn.linear_model import LogisticRegression\n",
    "logreg = LogisticRegression(C=1, max_iter=21000)\n",
    "logreg.fit(X_train_count, y_train)\n",
    "y_pred = logreg.predict(X_val_count)\n",
    "print('log reg count vectors accuracy %s' % accuracy_score(y_pred, y_val))\n"
   ]
  },
  {
   "attachments": {},
   "cell_type": "markdown",
   "metadata": {},
   "source": [
    "The log reg count vectors accuracy (0.533333333333333) represents the accuracy score of the Logistic Regression model when using count vectors as features for prediction on the validation set.\n",
    "\n",
    "The accuracy score of 0.5333 indicates that the model's predictions align with the true labels in the validation set approximately 53.33% of the time and the model's performance is moderate, as it is able to correctly predict the emotions in the validation set."
   ]
  },
  {
   "attachments": {},
   "cell_type": "markdown",
   "metadata": {},
   "source": [
    "##### The random forest seems to be the algorithm with highest accuracy with a 66% using count vectors. Let's use it for our  data and see how many reviews fit to every emotion."
   ]
  },
  {
   "cell_type": "code",
   "execution_count": null,
   "metadata": {},
   "outputs": [],
   "source": [
    "import re\n",
    "\n",
    "reviews= df['Posts']\n",
    "\n",
    "# Doing some preprocessing on these reviews as done before\n",
    "reviews = reviews.apply(lambda x: \" \".join(x.lower() for x in x.split()))\n",
    "reviews = reviews.str.replace('[^\\w\\s]',' ')\n",
    "reviews = reviews.str.replace('(www|http)\\S+', ' ')\n",
    "\n",
    "from nltk.corpus import stopwords\n",
    "stop = stopwords.words('english')\n",
    "reviews = reviews.apply(lambda x: \" \".join(x for x in x.split() if x not in stop))\n",
    "\n",
    "import re\n",
    "\n",
    "def de_repeat(text):\n",
    "    pattern = re.compile(r\"(.)\\1{2,}\")\n",
    "    return pattern.sub(r\"\\1\\1\", text)\n",
    "\n",
    "reviews = reviews.apply(lambda x: \" \".join(de_repeat(x) for x in x.split()))\n",
    "\n",
    "# Extracting Count Vectors feature from our Reviews\n",
    "review_count = count_vect.transform(reviews)\n",
    "\n",
    "#Predicting the emotion of the reviews using our already trained random forest \n",
    "review_pred = rf.predict(review_count)\n"
   ]
  },
  {
   "cell_type": "code",
   "execution_count": null,
   "metadata": {},
   "outputs": [
    {
     "data": {
      "text/plain": [
       "emotion_1\n",
       "satisfied       32\n",
       "disappointed    25\n",
       "excited         24\n",
       "happy           23\n",
       "frustrated      17\n",
       "delighted       12\n",
       "impressed        9\n",
       "annoyed          8\n",
       "Name: emotion_1, dtype: int64"
      ]
     },
     "execution_count": 915,
     "metadata": {},
     "output_type": "execute_result"
    }
   ],
   "source": [
    "df['emotion_1'] = review_pred.tolist()\n",
    "df['emotion_1'].replace(to_replace=0, value='annoyed', inplace=True)\n",
    "df['emotion_1'].replace(to_replace=1, value='delighted', inplace=True)\n",
    "df['emotion_1'].replace(to_replace=2, value='disappointed', inplace=True)\n",
    "df['emotion_1'].replace(to_replace=3, value='excited', inplace=True)\n",
    "df['emotion_1'].replace(to_replace=4, value='frustrated', inplace=True)\n",
    "df['emotion_1'].replace(to_replace=5, value='happy', inplace=True)\n",
    "df['emotion_1'].replace(to_replace=6, value='impressed', inplace=True)\n",
    "df['emotion_1'].replace(to_replace=7, value='satisfied', inplace=True)\n",
    "df.groupby('emotion_1')['emotion_1'].count().sort_values(ascending=False)"
   ]
  },
  {
   "attachments": {},
   "cell_type": "markdown",
   "metadata": {},
   "source": [
    "This output displays the predicted unique emotions."
   ]
  },
  {
   "cell_type": "code",
   "execution_count": null,
   "metadata": {},
   "outputs": [
    {
     "data": {
      "image/png": "[encoded data removed]",
      "text/plain": [
       "<Figure size 1000x1000 with 1 Axes>"
      ]
     },
     "metadata": {},
     "output_type": "display_data"
    }
   ],
   "source": [
    "plt.figure(figsize=(10,10))\n",
    "df['emotion_1'].value_counts().plot(kind = 'bar')\n",
    "plt.show()"
   ]
  },
  {
   "attachments": {},
   "cell_type": "markdown",
   "metadata": {},
   "source": [
    "This chart displays the predicted unique emotions."
   ]
  },
  {
   "cell_type": "code",
   "execution_count": null,
   "metadata": {},
   "outputs": [],
   "source": [
    "## Let's group reviews by emotion\n",
    "satisfied_reviews = df.loc[df['emotion_1'] == 'satisfied']\n",
    "disappointed_reviews = df.loc[df['emotion_1'] == 'disappointed']\n",
    "frustrated_reviews = df.loc[df['emotion_1'] == 'frustrated']\n",
    "excited_reviews = df.loc[df['emotion_1'] == 'excited']\n",
    "happy_reviews = df.loc[df['emotion_1'] == 'happy']\n",
    "delighted_reviews = df.loc[df['emotion_1'] == 'delighted']\n",
    "annoyed_reviews = df.loc[df['emotion_1'] == 'annoyed']\n",
    "impressed_reviews = df.loc[df['emotion_1'] == 'impressed']\n"
   ]
  },
  {
   "cell_type": "code",
   "execution_count": null,
   "metadata": {},
   "outputs": [
    {
     "name": "stdout",
     "output_type": "stream",
     "text": [
      "                                                 Posts Emotions   \n",
      "5     I'm so annoyed that my online order was cance...  annoyed  \\\n",
      "12    I'm so annoyed with the customer service I re...  annoyed   \n",
      "24    I'm so annoyed with the constant emails and a...  annoyed   \n",
      "43    I'm so annoyed that the online store charges ...  annoyed   \n",
      "67    I just had a terrible experience with an onli...  annoyed   \n",
      "74    I'm so annoyed with this online store's custo...  annoyed   \n",
      "105   I ordered from this online store and they cha...  annoyed   \n",
      "134   I'm so annoyed with this online store's email...  annoyed   \n",
      "\n",
      "                                      review_processed   \n",
      "5     i'm so annoyed that my online order was cance...  \\\n",
      "12    i'm so annoyed with the customer service i re...   \n",
      "24    i'm so annoyed with the constant emails and a...   \n",
      "43    i'm so annoyed that the online store charges ...   \n",
      "67    i just had a terrible experience with an onli...   \n",
      "74    i'm so annoyed with this online store's custo...   \n",
      "105   i ordered from this online store and they cha...   \n",
      "134   i'm so annoyed with this online store's email...   \n",
      "\n",
      "                                    review_processed_1   \n",
      "5    [i, 'm, so, annoyed, that, my, online, order, ...  \\\n",
      "12   [i, 'm, so, annoyed, with, the, customer, serv...   \n",
      "24   [i, 'm, so, annoyed, with, the, constant, emai...   \n",
      "43   [i, 'm, so, annoyed, that, the, online, store,...   \n",
      "67   [i, just, had, a, terrible, experience, with, ...   \n",
      "74   [i, 'm, so, annoyed, with, this, online, store...   \n",
      "105  [i, ordered, from, this, online, store, and, t...   \n",
      "134  [i, 'm, so, annoyed, with, this, online, store...   \n",
      "\n",
      "                                    review_processed_2   \n",
      "5    [i, 'm, so, annoyed, that, my, online, order, ...  \\\n",
      "12   [i, 'm, so, annoyed, with, the, customer, serv...   \n",
      "24   [i, 'm, so, annoyed, with, the, constant, emai...   \n",
      "43   [i, 'm, so, annoyed, that, the, online, store,...   \n",
      "67   [i, just, had, a, terrible, experience, with, ...   \n",
      "74   [i, 'm, so, annoyed, with, this, online, store...   \n",
      "105  [i, ordered, from, this, online, store, and, t...   \n",
      "134  [i, 'm, so, annoyed, with, this, online, store...   \n",
      "\n",
      "                                    review_processed_3   \n",
      "5    [i, 'm, so, annoyed, that, my, online, order, ...  \\\n",
      "12   [i, 'm, so, annoyed, with, the, customer, serv...   \n",
      "24   [i, 'm, so, annoyed, with, the, constant, emai...   \n",
      "43   [i, 'm, so, annoyed, that, the, online, store,...   \n",
      "67   [i, just, had, a, terrible, experience, with, ...   \n",
      "74   [i, 'm, so, annoyed, with, this, online, store...   \n",
      "105  [i, ordered, from, this, online, store, and, t...   \n",
      "134  [i, 'm, so, annoyed, with, this, online, store...   \n",
      "\n",
      "                                    review_processed_4   \n",
      "5    ['m, annoyed, my, online, order, wa, canceled,...  \\\n",
      "12   ['m, annoyed, the, customer, service, received...   \n",
      "24   ['m, annoyed, the, constant, email, ad, online...   \n",
      "43   ['m, annoyed, the, online, store, charge, ridi...   \n",
      "67   [just, terrible, experience, an, online, store...   \n",
      "74   ['m, annoyed, this, online, store, 's, custome...   \n",
      "105  [ordered, this, online, store, they, charged, ...   \n",
      "134  ['m, annoyed, this, online, store, 's, email, ...   \n",
      "\n",
      "                                    review_processed_5    neg    neu    pos   \n",
      "5    'm annoyed my online order wa canceled without...  0.245  0.755  0.000  \\\n",
      "12   'm annoyed the customer service received my on...  0.329  0.671  0.000   \n",
      "24   'm annoyed the constant email ad online store ...  0.224  0.776  0.000   \n",
      "43   'm annoyed the online store charge ridiculous ...  0.325  0.573  0.102   \n",
      "67   just terrible experience an online store charg...  0.274  0.726  0.000   \n",
      "74   'm annoyed this online store 's customer servi...  0.191  0.809  0.000   \n",
      "105  ordered this online store they charged twice t...  0.114  0.886  0.000   \n",
      "134  'm annoyed this online store 's email spam 've...  0.267  0.733  0.000   \n",
      "\n",
      "     compound Sentiment emotion_1  \n",
      "5     -0.3818  negative   annoyed  \n",
      "12    -0.5994  negative   annoyed  \n",
      "24    -0.3818  negative   annoyed  \n",
      "43    -0.5413  negative   annoyed  \n",
      "67    -0.5994  negative   annoyed  \n",
      "74    -0.3818  negative   annoyed  \n",
      "105   -0.2023  negative   annoyed  \n",
      "134   -0.6249  negative   annoyed  \n"
     ]
    }
   ],
   "source": [
    "print(annoyed_reviews)"
   ]
  },
  {
   "cell_type": "code",
   "execution_count": null,
   "metadata": {},
   "outputs": [
    {
     "data": {
      "image/png": "[encoded data removed]",
      "text/plain": [
       "<Figure size 640x480 with 1 Axes>"
      ]
     },
     "metadata": {},
     "output_type": "display_data"
    }
   ],
   "source": [
    "import matplotlib.pyplot as plt\n",
    "\n",
    "# Plotting the emotions as a histogram\n",
    "plt.hist([satisfied_reviews['emotion_1'],\n",
    "          disappointed_reviews['emotion_1'],\n",
    "          frustrated_reviews['emotion_1'],\n",
    "          excited_reviews['emotion_1'],\n",
    "          happy_reviews['emotion_1'],\n",
    "          delighted_reviews['emotion_1'],\n",
    "          annoyed_reviews['emotion_1'],\n",
    "          impressed_reviews['emotion_1']],\n",
    "         bins=10, edgecolor='black', label=['satisfied', 'disappointed', 'frustrated', 'excited', 'happy', 'delighted', 'annoyed', 'impressed'])\n",
    "\n",
    "# Setting the title and labels\n",
    "plt.title('Emotions in Social Media Posts about online shopping')\n",
    "plt.xlabel('emotion_1')\n",
    "plt.ylabel('Number of reviews')\n",
    "\n",
    "# Adding a legend\n",
    "plt.legend()\n",
    "\n",
    "# Displaying the plot\n",
    "plt.show()\n"
   ]
  },
  {
   "attachments": {},
   "cell_type": "markdown",
   "metadata": {},
   "source": [
    "The histogram shows visual analysis of the emotions distribution, enabling to identify which emotions are more commonly expressed in these posts. It provides insights into the overall sentiment or emotional tone of the online shopping-related discussions on social media platforms."
   ]
  },
  {
   "attachments": {},
   "cell_type": "markdown",
   "metadata": {},
   "source": [
    "### CONCLUSION"
   ]
  },
  {
   "attachments": {},
   "cell_type": "markdown",
   "metadata": {},
   "source": [
    "The research project provides valuable insights into the emotional responses of people towards Online shopping on social media. Sentiments anaysis were categorized on the sentiment associated with each data point in the compound  as either positive, neutral, or negative showing the emotional aspect of the data. \n",
    "\n",
    "Word2Vec Model was used to analyze the semantic relationships between words, allow us to understand the emotional connotations associated with specific words, provide insights into how emotions are expressed and related, and enhance sentiment analysis or emotion detection models by providing meaningful representations of words, enabling more accurate understanding and classification of emotions expressed in social media posts. Random Forest Classifer and Logistics Regression Models were used to find the accuracy and performance of the model. Both had accuracy of 65.83% and 61.67% respepectively. Accuracy is a common evaluation metric for classification models, and a higher accuracy score generally indicates better performance.\n",
    "\n",
    "Emotions of Posts were grouped similarly to get a unique emotion for each Post. TF-IDF and Count Vectors parameters were used on the Random forest Classifer and Logistics Regression Models to find the accuracy of each. The random forest had the highest accuracy with a 66% using count vectors and was used to show how many reviews fit to every emotion. Reviews were grouped by emotions indicating each review with its emotion.\n",
    "\n",
    "To Conclude, this information can be used by businesses, policymakers, or social media marketers to better understand public emotions and tailor their messaging or strategies accordingly. It can also provide a foundation for future research exploring the relationship between emotions, social media, and public opinion."
   ]
  },
  {
   "attachments": {},
   "cell_type": "markdown",
   "metadata": {},
   "source": [
    "### References\n",
    "\n",
    "https://www.kaggle.com/code/manuelbenedicto/emotions-towards-covid-19-on-reddit/notebook\n",
    "\n",
    "https://www.kaggle.com/code/simonityagi/a-guide-to-sentiment-analysis-using-word2vec/notebook\n",
    "\n",
    "https://www.kaggle.com/code/suraj520/bert-based-sentiment-detection/notebook\n",
    "\n",
    "https://chat.openai.com/"
   ]
  }
 ],
 "metadata": {
  "kernelspec": {
   "display_name": "Python 3",
   "language": "python",
   "name": "python3"
  },
  "language_info": {
   "codemirror_mode": {
    "name": "ipython",
    "version": 3
   },
   "file_extension": ".py",
   "mimetype": "text/x-python",
   "name": "python",
   "nbconvert_exporter": "python",
   "pygments_lexer": "ipython3",
   "version": "3.11.3"
  },
  "orig_nbformat": 4
 },
 "nbformat": 4,
 "nbformat_minor": 2
}
